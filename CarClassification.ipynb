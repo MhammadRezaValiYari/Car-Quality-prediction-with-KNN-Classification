{
  "cells": [
    {
      "cell_type": "code",
      "execution_count": 1,
      "metadata": {
        "id": "vkfKoXkyT2rB"
      },
      "outputs": [],
      "source": [
        "import sklearn\n",
        "from sklearn.utils import shuffle\n",
        "from sklearn.neighbors import KNeighborsClassifier\n",
        "from sklearn import preprocessing\n",
        "import pandas as pd\n",
        "import numpy as np\n",
        "import sklearn.metrics as met\n",
        "import matplotlib.pyplot as plt\n",
        "import sklearn.model_selection as ms\n",
        "import pickle"
      ]
    },
    {
      "cell_type": "code",
      "source": [
        "from google.colab import drive\n",
        "drive.mount('/content/drive', force_remount=True)\n",
        "!ls '/content/drive/MyDrive/car.data'"
      ],
      "metadata": {
        "colab": {
          "base_uri": "https://localhost:8080/"
        },
        "id": "8Yb4fhMiM1wZ",
        "outputId": "9230a0a6-c290-4246-ea0d-acc69112ec94"
      },
      "execution_count": 3,
      "outputs": [
        {
          "output_type": "stream",
          "name": "stdout",
          "text": [
            "Mounted at /content/drive\n",
            "/content/drive/MyDrive/car.data\n"
          ]
        }
      ]
    },
    {
      "cell_type": "code",
      "source": [
        "data = pd.read_csv('/content/drive/MyDrive/car.data')\n",
        "df = pd.DataFrame(data)\n",
        "df.head()"
      ],
      "metadata": {
        "colab": {
          "base_uri": "https://localhost:8080/",
          "height": 206
        },
        "id": "48ajKQC0M1su",
        "outputId": "bef10085-476a-4a27-8ece-25228db056ac"
      },
      "execution_count": 4,
      "outputs": [
        {
          "output_type": "execute_result",
          "data": {
            "text/plain": [
              "  buying  maint doors persons lug_boot safty  class\n",
              "0  vhigh  vhigh     2       2    small   low  unacc\n",
              "1  vhigh  vhigh     2       2    small   med  unacc\n",
              "2  vhigh  vhigh     2       2    small  high  unacc\n",
              "3  vhigh  vhigh     2       2      med   low  unacc\n",
              "4  vhigh  vhigh     2       2      med   med  unacc"
            ],
            "text/html": [
              "\n",
              "  <div id=\"df-15637aca-fa7a-4e9d-8b64-22b0405efc89\" class=\"colab-df-container\">\n",
              "    <div>\n",
              "<style scoped>\n",
              "    .dataframe tbody tr th:only-of-type {\n",
              "        vertical-align: middle;\n",
              "    }\n",
              "\n",
              "    .dataframe tbody tr th {\n",
              "        vertical-align: top;\n",
              "    }\n",
              "\n",
              "    .dataframe thead th {\n",
              "        text-align: right;\n",
              "    }\n",
              "</style>\n",
              "<table border=\"1\" class=\"dataframe\">\n",
              "  <thead>\n",
              "    <tr style=\"text-align: right;\">\n",
              "      <th></th>\n",
              "      <th>buying</th>\n",
              "      <th>maint</th>\n",
              "      <th>doors</th>\n",
              "      <th>persons</th>\n",
              "      <th>lug_boot</th>\n",
              "      <th>safty</th>\n",
              "      <th>class</th>\n",
              "    </tr>\n",
              "  </thead>\n",
              "  <tbody>\n",
              "    <tr>\n",
              "      <th>0</th>\n",
              "      <td>vhigh</td>\n",
              "      <td>vhigh</td>\n",
              "      <td>2</td>\n",
              "      <td>2</td>\n",
              "      <td>small</td>\n",
              "      <td>low</td>\n",
              "      <td>unacc</td>\n",
              "    </tr>\n",
              "    <tr>\n",
              "      <th>1</th>\n",
              "      <td>vhigh</td>\n",
              "      <td>vhigh</td>\n",
              "      <td>2</td>\n",
              "      <td>2</td>\n",
              "      <td>small</td>\n",
              "      <td>med</td>\n",
              "      <td>unacc</td>\n",
              "    </tr>\n",
              "    <tr>\n",
              "      <th>2</th>\n",
              "      <td>vhigh</td>\n",
              "      <td>vhigh</td>\n",
              "      <td>2</td>\n",
              "      <td>2</td>\n",
              "      <td>small</td>\n",
              "      <td>high</td>\n",
              "      <td>unacc</td>\n",
              "    </tr>\n",
              "    <tr>\n",
              "      <th>3</th>\n",
              "      <td>vhigh</td>\n",
              "      <td>vhigh</td>\n",
              "      <td>2</td>\n",
              "      <td>2</td>\n",
              "      <td>med</td>\n",
              "      <td>low</td>\n",
              "      <td>unacc</td>\n",
              "    </tr>\n",
              "    <tr>\n",
              "      <th>4</th>\n",
              "      <td>vhigh</td>\n",
              "      <td>vhigh</td>\n",
              "      <td>2</td>\n",
              "      <td>2</td>\n",
              "      <td>med</td>\n",
              "      <td>med</td>\n",
              "      <td>unacc</td>\n",
              "    </tr>\n",
              "  </tbody>\n",
              "</table>\n",
              "</div>\n",
              "    <div class=\"colab-df-buttons\">\n",
              "\n",
              "  <div class=\"colab-df-container\">\n",
              "    <button class=\"colab-df-convert\" onclick=\"convertToInteractive('df-15637aca-fa7a-4e9d-8b64-22b0405efc89')\"\n",
              "            title=\"Convert this dataframe to an interactive table.\"\n",
              "            style=\"display:none;\">\n",
              "\n",
              "  <svg xmlns=\"http://www.w3.org/2000/svg\" height=\"24px\" viewBox=\"0 -960 960 960\">\n",
              "    <path d=\"M120-120v-720h720v720H120Zm60-500h600v-160H180v160Zm220 220h160v-160H400v160Zm0 220h160v-160H400v160ZM180-400h160v-160H180v160Zm440 0h160v-160H620v160ZM180-180h160v-160H180v160Zm440 0h160v-160H620v160Z\"/>\n",
              "  </svg>\n",
              "    </button>\n",
              "\n",
              "  <style>\n",
              "    .colab-df-container {\n",
              "      display:flex;\n",
              "      gap: 12px;\n",
              "    }\n",
              "\n",
              "    .colab-df-convert {\n",
              "      background-color: #E8F0FE;\n",
              "      border: none;\n",
              "      border-radius: 50%;\n",
              "      cursor: pointer;\n",
              "      display: none;\n",
              "      fill: #1967D2;\n",
              "      height: 32px;\n",
              "      padding: 0 0 0 0;\n",
              "      width: 32px;\n",
              "    }\n",
              "\n",
              "    .colab-df-convert:hover {\n",
              "      background-color: #E2EBFA;\n",
              "      box-shadow: 0px 1px 2px rgba(60, 64, 67, 0.3), 0px 1px 3px 1px rgba(60, 64, 67, 0.15);\n",
              "      fill: #174EA6;\n",
              "    }\n",
              "\n",
              "    .colab-df-buttons div {\n",
              "      margin-bottom: 4px;\n",
              "    }\n",
              "\n",
              "    [theme=dark] .colab-df-convert {\n",
              "      background-color: #3B4455;\n",
              "      fill: #D2E3FC;\n",
              "    }\n",
              "\n",
              "    [theme=dark] .colab-df-convert:hover {\n",
              "      background-color: #434B5C;\n",
              "      box-shadow: 0px 1px 3px 1px rgba(0, 0, 0, 0.15);\n",
              "      filter: drop-shadow(0px 1px 2px rgba(0, 0, 0, 0.3));\n",
              "      fill: #FFFFFF;\n",
              "    }\n",
              "  </style>\n",
              "\n",
              "    <script>\n",
              "      const buttonEl =\n",
              "        document.querySelector('#df-15637aca-fa7a-4e9d-8b64-22b0405efc89 button.colab-df-convert');\n",
              "      buttonEl.style.display =\n",
              "        google.colab.kernel.accessAllowed ? 'block' : 'none';\n",
              "\n",
              "      async function convertToInteractive(key) {\n",
              "        const element = document.querySelector('#df-15637aca-fa7a-4e9d-8b64-22b0405efc89');\n",
              "        const dataTable =\n",
              "          await google.colab.kernel.invokeFunction('convertToInteractive',\n",
              "                                                    [key], {});\n",
              "        if (!dataTable) return;\n",
              "\n",
              "        const docLinkHtml = 'Like what you see? Visit the ' +\n",
              "          '<a target=\"_blank\" href=https://colab.research.google.com/notebooks/data_table.ipynb>data table notebook</a>'\n",
              "          + ' to learn more about interactive tables.';\n",
              "        element.innerHTML = '';\n",
              "        dataTable['output_type'] = 'display_data';\n",
              "        await google.colab.output.renderOutput(dataTable, element);\n",
              "        const docLink = document.createElement('div');\n",
              "        docLink.innerHTML = docLinkHtml;\n",
              "        element.appendChild(docLink);\n",
              "      }\n",
              "    </script>\n",
              "  </div>\n",
              "\n",
              "\n",
              "<div id=\"df-ea8d9558-2c59-4277-9957-15cd71241f6c\">\n",
              "  <button class=\"colab-df-quickchart\" onclick=\"quickchart('df-ea8d9558-2c59-4277-9957-15cd71241f6c')\"\n",
              "            title=\"Suggest charts\"\n",
              "            style=\"display:none;\">\n",
              "\n",
              "<svg xmlns=\"http://www.w3.org/2000/svg\" height=\"24px\"viewBox=\"0 0 24 24\"\n",
              "     width=\"24px\">\n",
              "    <g>\n",
              "        <path d=\"M19 3H5c-1.1 0-2 .9-2 2v14c0 1.1.9 2 2 2h14c1.1 0 2-.9 2-2V5c0-1.1-.9-2-2-2zM9 17H7v-7h2v7zm4 0h-2V7h2v10zm4 0h-2v-4h2v4z\"/>\n",
              "    </g>\n",
              "</svg>\n",
              "  </button>\n",
              "\n",
              "<style>\n",
              "  .colab-df-quickchart {\n",
              "      --bg-color: #E8F0FE;\n",
              "      --fill-color: #1967D2;\n",
              "      --hover-bg-color: #E2EBFA;\n",
              "      --hover-fill-color: #174EA6;\n",
              "      --disabled-fill-color: #AAA;\n",
              "      --disabled-bg-color: #DDD;\n",
              "  }\n",
              "\n",
              "  [theme=dark] .colab-df-quickchart {\n",
              "      --bg-color: #3B4455;\n",
              "      --fill-color: #D2E3FC;\n",
              "      --hover-bg-color: #434B5C;\n",
              "      --hover-fill-color: #FFFFFF;\n",
              "      --disabled-bg-color: #3B4455;\n",
              "      --disabled-fill-color: #666;\n",
              "  }\n",
              "\n",
              "  .colab-df-quickchart {\n",
              "    background-color: var(--bg-color);\n",
              "    border: none;\n",
              "    border-radius: 50%;\n",
              "    cursor: pointer;\n",
              "    display: none;\n",
              "    fill: var(--fill-color);\n",
              "    height: 32px;\n",
              "    padding: 0;\n",
              "    width: 32px;\n",
              "  }\n",
              "\n",
              "  .colab-df-quickchart:hover {\n",
              "    background-color: var(--hover-bg-color);\n",
              "    box-shadow: 0 1px 2px rgba(60, 64, 67, 0.3), 0 1px 3px 1px rgba(60, 64, 67, 0.15);\n",
              "    fill: var(--button-hover-fill-color);\n",
              "  }\n",
              "\n",
              "  .colab-df-quickchart-complete:disabled,\n",
              "  .colab-df-quickchart-complete:disabled:hover {\n",
              "    background-color: var(--disabled-bg-color);\n",
              "    fill: var(--disabled-fill-color);\n",
              "    box-shadow: none;\n",
              "  }\n",
              "\n",
              "  .colab-df-spinner {\n",
              "    border: 2px solid var(--fill-color);\n",
              "    border-color: transparent;\n",
              "    border-bottom-color: var(--fill-color);\n",
              "    animation:\n",
              "      spin 1s steps(1) infinite;\n",
              "  }\n",
              "\n",
              "  @keyframes spin {\n",
              "    0% {\n",
              "      border-color: transparent;\n",
              "      border-bottom-color: var(--fill-color);\n",
              "      border-left-color: var(--fill-color);\n",
              "    }\n",
              "    20% {\n",
              "      border-color: transparent;\n",
              "      border-left-color: var(--fill-color);\n",
              "      border-top-color: var(--fill-color);\n",
              "    }\n",
              "    30% {\n",
              "      border-color: transparent;\n",
              "      border-left-color: var(--fill-color);\n",
              "      border-top-color: var(--fill-color);\n",
              "      border-right-color: var(--fill-color);\n",
              "    }\n",
              "    40% {\n",
              "      border-color: transparent;\n",
              "      border-right-color: var(--fill-color);\n",
              "      border-top-color: var(--fill-color);\n",
              "    }\n",
              "    60% {\n",
              "      border-color: transparent;\n",
              "      border-right-color: var(--fill-color);\n",
              "    }\n",
              "    80% {\n",
              "      border-color: transparent;\n",
              "      border-right-color: var(--fill-color);\n",
              "      border-bottom-color: var(--fill-color);\n",
              "    }\n",
              "    90% {\n",
              "      border-color: transparent;\n",
              "      border-bottom-color: var(--fill-color);\n",
              "    }\n",
              "  }\n",
              "</style>\n",
              "\n",
              "  <script>\n",
              "    async function quickchart(key) {\n",
              "      const quickchartButtonEl =\n",
              "        document.querySelector('#' + key + ' button');\n",
              "      quickchartButtonEl.disabled = true;  // To prevent multiple clicks.\n",
              "      quickchartButtonEl.classList.add('colab-df-spinner');\n",
              "      try {\n",
              "        const charts = await google.colab.kernel.invokeFunction(\n",
              "            'suggestCharts', [key], {});\n",
              "      } catch (error) {\n",
              "        console.error('Error during call to suggestCharts:', error);\n",
              "      }\n",
              "      quickchartButtonEl.classList.remove('colab-df-spinner');\n",
              "      quickchartButtonEl.classList.add('colab-df-quickchart-complete');\n",
              "    }\n",
              "    (() => {\n",
              "      let quickchartButtonEl =\n",
              "        document.querySelector('#df-ea8d9558-2c59-4277-9957-15cd71241f6c button');\n",
              "      quickchartButtonEl.style.display =\n",
              "        google.colab.kernel.accessAllowed ? 'block' : 'none';\n",
              "    })();\n",
              "  </script>\n",
              "</div>\n",
              "    </div>\n",
              "  </div>\n"
            ]
          },
          "metadata": {},
          "execution_count": 4
        }
      ]
    },
    {
      "cell_type": "code",
      "source": [
        "df.columns"
      ],
      "metadata": {
        "colab": {
          "base_uri": "https://localhost:8080/"
        },
        "id": "OwVGNj_bM1rL",
        "outputId": "d8a8ddac-09bc-4bfa-e564-0098a9374527"
      },
      "execution_count": 5,
      "outputs": [
        {
          "output_type": "execute_result",
          "data": {
            "text/plain": [
              "Index(['buying', 'maint', 'doors', 'persons', 'lug_boot', 'safty', 'class'], dtype='object')"
            ]
          },
          "metadata": {},
          "execution_count": 5
        }
      ]
    },
    {
      "cell_type": "code",
      "source": [
        "le = preprocessing.LabelEncoder()"
      ],
      "metadata": {
        "id": "aRg2amX5M1f0"
      },
      "execution_count": 6,
      "outputs": []
    },
    {
      "cell_type": "code",
      "source": [
        "buying = le.fit_transform(list(df['buying']))\n",
        "maint = le.fit_transform(list(df['maint']))\n",
        "doors = le.fit_transform(list(df['doors']))\n",
        "persons = le.fit_transform(list(df['persons']))\n",
        "lugboot = le.fit_transform(list(df['lug_boot']))\n",
        "safty = le.fit_transform(list(df['safty']))"
      ],
      "metadata": {
        "id": "MO_9sapOM1c6"
      },
      "execution_count": 7,
      "outputs": []
    },
    {
      "cell_type": "code",
      "source": [
        "clss = le.fit_transform(list(df['class']))"
      ],
      "metadata": {
        "id": "JZHeKbu6M1ZS"
      },
      "execution_count": 8,
      "outputs": []
    },
    {
      "cell_type": "code",
      "source": [
        "x = list(zip(buying, maint, doors, persons, lugboot, safty)) # feature\n",
        "y = list(clss) #label"
      ],
      "metadata": {
        "id": "tfLuakMxM1X2"
      },
      "execution_count": 9,
      "outputs": []
    },
    {
      "cell_type": "code",
      "source": [
        "x_train, x_test, y_train, y_test = ms.train_test_split(x, y, test_size=0.05)"
      ],
      "metadata": {
        "id": "E5gswympwipe"
      },
      "execution_count": 19,
      "outputs": []
    },
    {
      "cell_type": "code",
      "source": [
        "model = KNeighborsClassifier(n_neighbors=9)"
      ],
      "metadata": {
        "id": "f8xqzK8zwiil"
      },
      "execution_count": 26,
      "outputs": []
    },
    {
      "cell_type": "code",
      "source": [
        "model.fit(x_train, y_train)"
      ],
      "metadata": {
        "colab": {
          "base_uri": "https://localhost:8080/",
          "height": 74
        },
        "id": "xv_dqUsbwihG",
        "outputId": "a8843915-acc6-48ef-9244-754a4cef78d3"
      },
      "execution_count": 27,
      "outputs": [
        {
          "output_type": "execute_result",
          "data": {
            "text/plain": [
              "KNeighborsClassifier(n_neighbors=9)"
            ],
            "text/html": [
              "<style>#sk-container-id-5 {color: black;background-color: white;}#sk-container-id-5 pre{padding: 0;}#sk-container-id-5 div.sk-toggleable {background-color: white;}#sk-container-id-5 label.sk-toggleable__label {cursor: pointer;display: block;width: 100%;margin-bottom: 0;padding: 0.3em;box-sizing: border-box;text-align: center;}#sk-container-id-5 label.sk-toggleable__label-arrow:before {content: \"▸\";float: left;margin-right: 0.25em;color: #696969;}#sk-container-id-5 label.sk-toggleable__label-arrow:hover:before {color: black;}#sk-container-id-5 div.sk-estimator:hover label.sk-toggleable__label-arrow:before {color: black;}#sk-container-id-5 div.sk-toggleable__content {max-height: 0;max-width: 0;overflow: hidden;text-align: left;background-color: #f0f8ff;}#sk-container-id-5 div.sk-toggleable__content pre {margin: 0.2em;color: black;border-radius: 0.25em;background-color: #f0f8ff;}#sk-container-id-5 input.sk-toggleable__control:checked~div.sk-toggleable__content {max-height: 200px;max-width: 100%;overflow: auto;}#sk-container-id-5 input.sk-toggleable__control:checked~label.sk-toggleable__label-arrow:before {content: \"▾\";}#sk-container-id-5 div.sk-estimator input.sk-toggleable__control:checked~label.sk-toggleable__label {background-color: #d4ebff;}#sk-container-id-5 div.sk-label input.sk-toggleable__control:checked~label.sk-toggleable__label {background-color: #d4ebff;}#sk-container-id-5 input.sk-hidden--visually {border: 0;clip: rect(1px 1px 1px 1px);clip: rect(1px, 1px, 1px, 1px);height: 1px;margin: -1px;overflow: hidden;padding: 0;position: absolute;width: 1px;}#sk-container-id-5 div.sk-estimator {font-family: monospace;background-color: #f0f8ff;border: 1px dotted black;border-radius: 0.25em;box-sizing: border-box;margin-bottom: 0.5em;}#sk-container-id-5 div.sk-estimator:hover {background-color: #d4ebff;}#sk-container-id-5 div.sk-parallel-item::after {content: \"\";width: 100%;border-bottom: 1px solid gray;flex-grow: 1;}#sk-container-id-5 div.sk-label:hover label.sk-toggleable__label {background-color: #d4ebff;}#sk-container-id-5 div.sk-serial::before {content: \"\";position: absolute;border-left: 1px solid gray;box-sizing: border-box;top: 0;bottom: 0;left: 50%;z-index: 0;}#sk-container-id-5 div.sk-serial {display: flex;flex-direction: column;align-items: center;background-color: white;padding-right: 0.2em;padding-left: 0.2em;position: relative;}#sk-container-id-5 div.sk-item {position: relative;z-index: 1;}#sk-container-id-5 div.sk-parallel {display: flex;align-items: stretch;justify-content: center;background-color: white;position: relative;}#sk-container-id-5 div.sk-item::before, #sk-container-id-5 div.sk-parallel-item::before {content: \"\";position: absolute;border-left: 1px solid gray;box-sizing: border-box;top: 0;bottom: 0;left: 50%;z-index: -1;}#sk-container-id-5 div.sk-parallel-item {display: flex;flex-direction: column;z-index: 1;position: relative;background-color: white;}#sk-container-id-5 div.sk-parallel-item:first-child::after {align-self: flex-end;width: 50%;}#sk-container-id-5 div.sk-parallel-item:last-child::after {align-self: flex-start;width: 50%;}#sk-container-id-5 div.sk-parallel-item:only-child::after {width: 0;}#sk-container-id-5 div.sk-dashed-wrapped {border: 1px dashed gray;margin: 0 0.4em 0.5em 0.4em;box-sizing: border-box;padding-bottom: 0.4em;background-color: white;}#sk-container-id-5 div.sk-label label {font-family: monospace;font-weight: bold;display: inline-block;line-height: 1.2em;}#sk-container-id-5 div.sk-label-container {text-align: center;}#sk-container-id-5 div.sk-container {/* jupyter's `normalize.less` sets `[hidden] { display: none; }` but bootstrap.min.css set `[hidden] { display: none !important; }` so we also need the `!important` here to be able to override the default hidden behavior on the sphinx rendered scikit-learn.org. See: https://github.com/scikit-learn/scikit-learn/issues/21755 */display: inline-block !important;position: relative;}#sk-container-id-5 div.sk-text-repr-fallback {display: none;}</style><div id=\"sk-container-id-5\" class=\"sk-top-container\"><div class=\"sk-text-repr-fallback\"><pre>KNeighborsClassifier(n_neighbors=9)</pre><b>In a Jupyter environment, please rerun this cell to show the HTML representation or trust the notebook. <br />On GitHub, the HTML representation is unable to render, please try loading this page with nbviewer.org.</b></div><div class=\"sk-container\" hidden><div class=\"sk-item\"><div class=\"sk-estimator sk-toggleable\"><input class=\"sk-toggleable__control sk-hidden--visually\" id=\"sk-estimator-id-5\" type=\"checkbox\" checked><label for=\"sk-estimator-id-5\" class=\"sk-toggleable__label sk-toggleable__label-arrow\">KNeighborsClassifier</label><div class=\"sk-toggleable__content\"><pre>KNeighborsClassifier(n_neighbors=9)</pre></div></div></div></div></div>"
            ]
          },
          "metadata": {},
          "execution_count": 27
        }
      ]
    },
    {
      "cell_type": "code",
      "source": [
        "model.score(x_test, y_test)"
      ],
      "metadata": {
        "colab": {
          "base_uri": "https://localhost:8080/"
        },
        "id": "1TwML5yxwieH",
        "outputId": "cdd2f3d4-54c9-4806-ebac-34f872966a8b"
      },
      "execution_count": 28,
      "outputs": [
        {
          "output_type": "execute_result",
          "data": {
            "text/plain": [
              "0.9770114942528736"
            ]
          },
          "metadata": {},
          "execution_count": 28
        }
      ]
    },
    {
      "cell_type": "code",
      "source": [
        "model.score(x_train, y_train)"
      ],
      "metadata": {
        "colab": {
          "base_uri": "https://localhost:8080/"
        },
        "id": "CZHfAsl4wicR",
        "outputId": "e89f0ef2-5c1f-4903-b043-ead6371ed79b"
      },
      "execution_count": 29,
      "outputs": [
        {
          "output_type": "execute_result",
          "data": {
            "text/plain": [
              "0.9786715417428398"
            ]
          },
          "metadata": {},
          "execution_count": 29
        }
      ]
    },
    {
      "cell_type": "code",
      "source": [
        "predicted = model.predict(x_test)"
      ],
      "metadata": {
        "id": "A_MYevehlT4K"
      },
      "execution_count": 30,
      "outputs": []
    },
    {
      "cell_type": "code",
      "source": [
        "clas = [\"unacc\", \"acc\", \"good\", \"vgood\"]"
      ],
      "metadata": {
        "id": "jWH3lXxLmGYA"
      },
      "execution_count": 31,
      "outputs": []
    },
    {
      "cell_type": "code",
      "source": [
        "for x in range (len(predicted)):\n",
        "  print(\"pred:\", clas[predicted[x]], \"real:\", clas[y_test[x]])\n",
        "  n = model.kneighbors([x_test[x]], 3)\n",
        "  print(\"-----------------------------------------------------------\")\n",
        "  print(n)"
      ],
      "metadata": {
        "colab": {
          "base_uri": "https://localhost:8080/"
        },
        "id": "NczGdJVxwiY5",
        "outputId": "a6d5d4ca-d4ac-41c6-fde6-cea3c5eaf99d"
      },
      "execution_count": 32,
      "outputs": [
        {
          "output_type": "stream",
          "name": "stdout",
          "text": [
            "pred: good real: good\n",
            "-----------------------------------------------------------\n",
            "(array([[1., 1., 1.]]), array([[186,  16, 390]]))\n",
            "pred: good real: good\n",
            "-----------------------------------------------------------\n",
            "(array([[1., 1., 1.]]), array([[219, 487,   8]]))\n",
            "pred: good real: good\n",
            "-----------------------------------------------------------\n",
            "(array([[1., 1., 1.]]), array([[1357, 1350, 1063]]))\n",
            "pred: good real: good\n",
            "-----------------------------------------------------------\n",
            "(array([[1., 1., 1.]]), array([[ 458, 1390, 1568]]))\n",
            "pred: good real: good\n",
            "-----------------------------------------------------------\n",
            "(array([[1., 1., 1.]]), array([[977, 789, 248]]))\n",
            "pred: good real: good\n",
            "-----------------------------------------------------------\n",
            "(array([[1., 1., 1.]]), array([[1334,  159,  123]]))\n",
            "pred: good real: good\n",
            "-----------------------------------------------------------\n",
            "(array([[1., 1., 1.]]), array([[ 694,  885, 1542]]))\n",
            "pred: good real: good\n",
            "-----------------------------------------------------------\n",
            "(array([[1., 1., 1.]]), array([[689,  67, 463]]))\n",
            "pred: unacc real: unacc\n",
            "-----------------------------------------------------------\n",
            "(array([[1., 1., 1.]]), array([[138, 588, 669]]))\n",
            "pred: good real: good\n",
            "-----------------------------------------------------------\n",
            "(array([[1., 1., 1.]]), array([[822, 218,  20]]))\n",
            "pred: unacc real: unacc\n",
            "-----------------------------------------------------------\n",
            "(array([[1., 1., 1.]]), array([[1208,  368, 1557]]))\n",
            "pred: unacc real: unacc\n",
            "-----------------------------------------------------------\n",
            "(array([[1., 1., 1.]]), array([[1340, 1601, 1604]]))\n",
            "pred: unacc real: unacc\n",
            "-----------------------------------------------------------\n",
            "(array([[1., 1., 1.]]), array([[421, 186, 434]]))\n",
            "pred: good real: good\n",
            "-----------------------------------------------------------\n",
            "(array([[1., 1., 1.]]), array([[527, 423, 508]]))\n",
            "pred: good real: good\n",
            "-----------------------------------------------------------\n",
            "(array([[1., 1., 1.]]), array([[1096,   84,  344]]))\n",
            "pred: good real: good\n",
            "-----------------------------------------------------------\n",
            "(array([[1., 1., 1.]]), array([[1575,   81,  240]]))\n",
            "pred: good real: good\n",
            "-----------------------------------------------------------\n",
            "(array([[1., 1., 1.]]), array([[1018,  306,   65]]))\n",
            "pred: good real: good\n",
            "-----------------------------------------------------------\n",
            "(array([[1., 1., 1.]]), array([[1011, 1343,  471]]))\n",
            "pred: good real: good\n",
            "-----------------------------------------------------------\n",
            "(array([[1., 1., 1.]]), array([[ 705, 1277,  922]]))\n",
            "pred: unacc real: unacc\n",
            "-----------------------------------------------------------\n",
            "(array([[1., 1., 1.]]), array([[630, 400, 132]]))\n",
            "pred: unacc real: unacc\n",
            "-----------------------------------------------------------\n",
            "(array([[1., 1., 1.]]), array([[201, 191, 793]]))\n",
            "pred: good real: good\n",
            "-----------------------------------------------------------\n",
            "(array([[1., 1., 1.]]), array([[108, 707, 642]]))\n",
            "pred: good real: good\n",
            "-----------------------------------------------------------\n",
            "(array([[1., 1., 1.]]), array([[ 125, 1037, 1529]]))\n",
            "pred: good real: good\n",
            "-----------------------------------------------------------\n",
            "(array([[1., 1., 1.]]), array([[723, 990,  47]]))\n",
            "pred: vgood real: vgood\n",
            "-----------------------------------------------------------\n",
            "(array([[1., 1., 1.]]), array([[998, 354, 867]]))\n",
            "pred: good real: good\n",
            "-----------------------------------------------------------\n",
            "(array([[1., 1., 1.]]), array([[480, 653, 395]]))\n",
            "pred: unacc real: unacc\n",
            "-----------------------------------------------------------\n",
            "(array([[1., 1., 1.]]), array([[93, 95, 37]]))\n",
            "pred: good real: good\n",
            "-----------------------------------------------------------\n",
            "(array([[1., 1., 1.]]), array([[237, 788, 383]]))\n",
            "pred: good real: good\n",
            "-----------------------------------------------------------\n",
            "(array([[1., 1., 1.]]), array([[1502,  559, 1030]]))\n",
            "pred: good real: good\n",
            "-----------------------------------------------------------\n",
            "(array([[1., 1., 1.]]), array([[1287,  566,  980]]))\n",
            "pred: good real: good\n",
            "-----------------------------------------------------------\n",
            "(array([[1., 1., 1.]]), array([[1187,  672,  614]]))\n",
            "pred: unacc real: unacc\n",
            "-----------------------------------------------------------\n",
            "(array([[1., 1., 1.]]), array([[342, 265, 183]]))\n",
            "pred: good real: unacc\n",
            "-----------------------------------------------------------\n",
            "(array([[1., 1., 1.]]), array([[589, 561, 712]]))\n",
            "pred: good real: good\n",
            "-----------------------------------------------------------\n",
            "(array([[1., 1., 1.]]), array([[644, 842,  48]]))\n",
            "pred: good real: good\n",
            "-----------------------------------------------------------\n",
            "(array([[1., 1., 1.]]), array([[440,  88, 193]]))\n",
            "pred: good real: good\n",
            "-----------------------------------------------------------\n",
            "(array([[1., 1., 1.]]), array([[ 466, 1589,  168]]))\n",
            "pred: good real: good\n",
            "-----------------------------------------------------------\n",
            "(array([[1., 1., 1.]]), array([[715, 192, 356]]))\n",
            "pred: good real: good\n",
            "-----------------------------------------------------------\n",
            "(array([[1., 1., 1.]]), array([[ 605, 1229,  130]]))\n",
            "pred: good real: good\n",
            "-----------------------------------------------------------\n",
            "(array([[1., 1., 1.]]), array([[1059, 1320, 1620]]))\n",
            "pred: good real: good\n",
            "-----------------------------------------------------------\n",
            "(array([[1., 1., 1.]]), array([[1221,  494, 1354]]))\n",
            "pred: unacc real: unacc\n",
            "-----------------------------------------------------------\n",
            "(array([[1., 1., 1.]]), array([[940, 842, 644]]))\n",
            "pred: good real: good\n",
            "-----------------------------------------------------------\n",
            "(array([[1., 1., 1.]]), array([[1008,  182,  394]]))\n",
            "pred: good real: good\n",
            "-----------------------------------------------------------\n",
            "(array([[1., 1., 1.]]), array([[380, 550, 414]]))\n",
            "pred: unacc real: unacc\n",
            "-----------------------------------------------------------\n",
            "(array([[1., 1., 1.]]), array([[1569, 1616,  228]]))\n",
            "pred: unacc real: unacc\n",
            "-----------------------------------------------------------\n",
            "(array([[1., 1., 1.]]), array([[433,  49, 114]]))\n",
            "pred: good real: good\n",
            "-----------------------------------------------------------\n",
            "(array([[1., 1., 1.]]), array([[ 999, 1569,  876]]))\n",
            "pred: good real: good\n",
            "-----------------------------------------------------------\n",
            "(array([[1., 1., 1.]]), array([[281, 880, 644]]))\n",
            "pred: good real: good\n",
            "-----------------------------------------------------------\n",
            "(array([[1., 1., 1.]]), array([[462,  39, 247]]))\n",
            "pred: acc real: acc\n",
            "-----------------------------------------------------------\n",
            "(array([[1., 1., 1.]]), array([[ 165, 1562, 1567]]))\n",
            "pred: good real: good\n",
            "-----------------------------------------------------------\n",
            "(array([[1., 1., 1.]]), array([[127, 182, 405]]))\n",
            "pred: good real: good\n",
            "-----------------------------------------------------------\n",
            "(array([[1., 1., 1.]]), array([[1096,  879, 1010]]))\n",
            "pred: unacc real: unacc\n",
            "-----------------------------------------------------------\n",
            "(array([[1., 1., 1.]]), array([[535, 410, 421]]))\n",
            "pred: good real: good\n",
            "-----------------------------------------------------------\n",
            "(array([[1., 1., 1.]]), array([[781, 232, 745]]))\n",
            "pred: good real: good\n",
            "-----------------------------------------------------------\n",
            "(array([[1., 1., 1.]]), array([[363, 125,  97]]))\n",
            "pred: good real: good\n",
            "-----------------------------------------------------------\n",
            "(array([[1., 1., 1.]]), array([[1249,  747, 1039]]))\n",
            "pred: unacc real: unacc\n",
            "-----------------------------------------------------------\n",
            "(array([[1., 1., 1.]]), array([[630, 801, 616]]))\n",
            "pred: acc real: acc\n",
            "-----------------------------------------------------------\n",
            "(array([[1., 1., 1.]]), array([[663, 497, 568]]))\n",
            "pred: vgood real: vgood\n",
            "-----------------------------------------------------------\n",
            "(array([[1., 1., 1.]]), array([[817, 425, 200]]))\n",
            "pred: good real: good\n",
            "-----------------------------------------------------------\n",
            "(array([[1., 1., 1.]]), array([[175, 171,  67]]))\n",
            "pred: good real: good\n",
            "-----------------------------------------------------------\n",
            "(array([[1., 1., 1.]]), array([[933, 112, 496]]))\n",
            "pred: good real: good\n",
            "-----------------------------------------------------------\n",
            "(array([[1., 1., 1.]]), array([[ 483,  330, 1081]]))\n",
            "pred: vgood real: vgood\n",
            "-----------------------------------------------------------\n",
            "(array([[1., 1., 1.]]), array([[ 388, 1369,  831]]))\n",
            "pred: good real: good\n",
            "-----------------------------------------------------------\n",
            "(array([[1., 1., 1.]]), array([[1096,  665,  520]]))\n",
            "pred: good real: good\n",
            "-----------------------------------------------------------\n",
            "(array([[1., 1., 1.]]), array([[1184, 1478,  695]]))\n",
            "pred: good real: good\n",
            "-----------------------------------------------------------\n",
            "(array([[1., 1., 1.]]), array([[575, 955, 874]]))\n",
            "pred: unacc real: unacc\n",
            "-----------------------------------------------------------\n",
            "(array([[1., 1., 1.]]), array([[1280, 1142, 1602]]))\n",
            "pred: good real: good\n",
            "-----------------------------------------------------------\n",
            "(array([[1., 1., 1.]]), array([[874, 117, 496]]))\n",
            "pred: good real: good\n",
            "-----------------------------------------------------------\n",
            "(array([[1., 1., 1.]]), array([[227,  41,  49]]))\n",
            "pred: good real: unacc\n",
            "-----------------------------------------------------------\n",
            "(array([[1., 1., 1.]]), array([[ 517, 1600,  109]]))\n",
            "pred: good real: good\n",
            "-----------------------------------------------------------\n",
            "(array([[1., 1., 1.]]), array([[740, 843, 924]]))\n",
            "pred: good real: good\n",
            "-----------------------------------------------------------\n",
            "(array([[1., 1., 1.]]), array([[1319,  718,  765]]))\n",
            "pred: unacc real: unacc\n",
            "-----------------------------------------------------------\n",
            "(array([[1., 1., 1.]]), array([[1601,  951,  243]]))\n",
            "pred: good real: good\n",
            "-----------------------------------------------------------\n",
            "(array([[1., 1., 1.]]), array([[604, 233, 132]]))\n",
            "pred: good real: good\n",
            "-----------------------------------------------------------\n",
            "(array([[1., 1., 1.]]), array([[1019, 1349, 1354]]))\n",
            "pred: good real: good\n",
            "-----------------------------------------------------------\n",
            "(array([[1., 1., 1.]]), array([[1067,  436, 1257]]))\n",
            "pred: good real: good\n",
            "-----------------------------------------------------------\n",
            "(array([[1., 1., 1.]]), array([[1364,  544,   48]]))\n",
            "pred: good real: good\n",
            "-----------------------------------------------------------\n",
            "(array([[1., 1., 1.]]), array([[ 597, 1612,  168]]))\n",
            "pred: good real: good\n",
            "-----------------------------------------------------------\n",
            "(array([[1., 1., 1.]]), array([[1621,  135,  393]]))\n",
            "pred: good real: good\n",
            "-----------------------------------------------------------\n",
            "(array([[1., 1., 1.]]), array([[1180,  253,  193]]))\n",
            "pred: good real: good\n",
            "-----------------------------------------------------------\n",
            "(array([[1., 1., 1.]]), array([[301, 305, 336]]))\n",
            "pred: good real: good\n",
            "-----------------------------------------------------------\n",
            "(array([[1., 1., 1.]]), array([[ 760, 1596,   11]]))\n",
            "pred: good real: good\n",
            "-----------------------------------------------------------\n",
            "(array([[1., 1., 1.]]), array([[ 766, 1271,   27]]))\n",
            "pred: acc real: acc\n",
            "-----------------------------------------------------------\n",
            "(array([[1., 1., 1.]]), array([[941, 611, 632]]))\n",
            "pred: unacc real: unacc\n",
            "-----------------------------------------------------------\n",
            "(array([[1., 1., 1.]]), array([[374, 829, 342]]))\n",
            "pred: unacc real: unacc\n",
            "-----------------------------------------------------------\n",
            "(array([[1., 1., 1.]]), array([[920,  90, 813]]))\n",
            "pred: good real: good\n",
            "-----------------------------------------------------------\n",
            "(array([[1., 1., 1.]]), array([[1146, 1049, 1026]]))\n",
            "pred: vgood real: vgood\n",
            "-----------------------------------------------------------\n",
            "(array([[1., 1., 1.]]), array([[1313,  958,  564]]))\n"
          ]
        }
      ]
    },
    {
      "cell_type": "markdown",
      "source": [
        "###LDA algorithm"
      ],
      "metadata": {
        "id": "LiUb9LTZNJbV"
      }
    },
    {
      "cell_type": "markdown",
      "source": [
        "LDA =======>>>> y = ax+b"
      ],
      "metadata": {
        "id": "cGdckLolNNWC"
      }
    },
    {
      "cell_type": "code",
      "source": [
        "from sklearn.discriminant_analysis import LinearDiscriminantAnalysis"
      ],
      "metadata": {
        "id": "JHROkS7NwiSI"
      },
      "execution_count": 33,
      "outputs": []
    },
    {
      "cell_type": "code",
      "source": [
        "DisAnsModel = LinearDiscriminantAnalysis()"
      ],
      "metadata": {
        "id": "xcKQv1W4wiOf"
      },
      "execution_count": 34,
      "outputs": []
    },
    {
      "cell_type": "code",
      "source": [
        "DisAnsModel.fit(x_train, y_train)"
      ],
      "metadata": {
        "id": "fRhl1FHhwiM7",
        "outputId": "158f6ef0-d135-4efa-ec03-1599b639c556",
        "colab": {
          "base_uri": "https://localhost:8080/",
          "height": 74
        }
      },
      "execution_count": 35,
      "outputs": [
        {
          "output_type": "execute_result",
          "data": {
            "text/plain": [
              "LinearDiscriminantAnalysis()"
            ],
            "text/html": [
              "<style>#sk-container-id-6 {color: black;background-color: white;}#sk-container-id-6 pre{padding: 0;}#sk-container-id-6 div.sk-toggleable {background-color: white;}#sk-container-id-6 label.sk-toggleable__label {cursor: pointer;display: block;width: 100%;margin-bottom: 0;padding: 0.3em;box-sizing: border-box;text-align: center;}#sk-container-id-6 label.sk-toggleable__label-arrow:before {content: \"▸\";float: left;margin-right: 0.25em;color: #696969;}#sk-container-id-6 label.sk-toggleable__label-arrow:hover:before {color: black;}#sk-container-id-6 div.sk-estimator:hover label.sk-toggleable__label-arrow:before {color: black;}#sk-container-id-6 div.sk-toggleable__content {max-height: 0;max-width: 0;overflow: hidden;text-align: left;background-color: #f0f8ff;}#sk-container-id-6 div.sk-toggleable__content pre {margin: 0.2em;color: black;border-radius: 0.25em;background-color: #f0f8ff;}#sk-container-id-6 input.sk-toggleable__control:checked~div.sk-toggleable__content {max-height: 200px;max-width: 100%;overflow: auto;}#sk-container-id-6 input.sk-toggleable__control:checked~label.sk-toggleable__label-arrow:before {content: \"▾\";}#sk-container-id-6 div.sk-estimator input.sk-toggleable__control:checked~label.sk-toggleable__label {background-color: #d4ebff;}#sk-container-id-6 div.sk-label input.sk-toggleable__control:checked~label.sk-toggleable__label {background-color: #d4ebff;}#sk-container-id-6 input.sk-hidden--visually {border: 0;clip: rect(1px 1px 1px 1px);clip: rect(1px, 1px, 1px, 1px);height: 1px;margin: -1px;overflow: hidden;padding: 0;position: absolute;width: 1px;}#sk-container-id-6 div.sk-estimator {font-family: monospace;background-color: #f0f8ff;border: 1px dotted black;border-radius: 0.25em;box-sizing: border-box;margin-bottom: 0.5em;}#sk-container-id-6 div.sk-estimator:hover {background-color: #d4ebff;}#sk-container-id-6 div.sk-parallel-item::after {content: \"\";width: 100%;border-bottom: 1px solid gray;flex-grow: 1;}#sk-container-id-6 div.sk-label:hover label.sk-toggleable__label {background-color: #d4ebff;}#sk-container-id-6 div.sk-serial::before {content: \"\";position: absolute;border-left: 1px solid gray;box-sizing: border-box;top: 0;bottom: 0;left: 50%;z-index: 0;}#sk-container-id-6 div.sk-serial {display: flex;flex-direction: column;align-items: center;background-color: white;padding-right: 0.2em;padding-left: 0.2em;position: relative;}#sk-container-id-6 div.sk-item {position: relative;z-index: 1;}#sk-container-id-6 div.sk-parallel {display: flex;align-items: stretch;justify-content: center;background-color: white;position: relative;}#sk-container-id-6 div.sk-item::before, #sk-container-id-6 div.sk-parallel-item::before {content: \"\";position: absolute;border-left: 1px solid gray;box-sizing: border-box;top: 0;bottom: 0;left: 50%;z-index: -1;}#sk-container-id-6 div.sk-parallel-item {display: flex;flex-direction: column;z-index: 1;position: relative;background-color: white;}#sk-container-id-6 div.sk-parallel-item:first-child::after {align-self: flex-end;width: 50%;}#sk-container-id-6 div.sk-parallel-item:last-child::after {align-self: flex-start;width: 50%;}#sk-container-id-6 div.sk-parallel-item:only-child::after {width: 0;}#sk-container-id-6 div.sk-dashed-wrapped {border: 1px dashed gray;margin: 0 0.4em 0.5em 0.4em;box-sizing: border-box;padding-bottom: 0.4em;background-color: white;}#sk-container-id-6 div.sk-label label {font-family: monospace;font-weight: bold;display: inline-block;line-height: 1.2em;}#sk-container-id-6 div.sk-label-container {text-align: center;}#sk-container-id-6 div.sk-container {/* jupyter's `normalize.less` sets `[hidden] { display: none; }` but bootstrap.min.css set `[hidden] { display: none !important; }` so we also need the `!important` here to be able to override the default hidden behavior on the sphinx rendered scikit-learn.org. See: https://github.com/scikit-learn/scikit-learn/issues/21755 */display: inline-block !important;position: relative;}#sk-container-id-6 div.sk-text-repr-fallback {display: none;}</style><div id=\"sk-container-id-6\" class=\"sk-top-container\"><div class=\"sk-text-repr-fallback\"><pre>LinearDiscriminantAnalysis()</pre><b>In a Jupyter environment, please rerun this cell to show the HTML representation or trust the notebook. <br />On GitHub, the HTML representation is unable to render, please try loading this page with nbviewer.org.</b></div><div class=\"sk-container\" hidden><div class=\"sk-item\"><div class=\"sk-estimator sk-toggleable\"><input class=\"sk-toggleable__control sk-hidden--visually\" id=\"sk-estimator-id-6\" type=\"checkbox\" checked><label for=\"sk-estimator-id-6\" class=\"sk-toggleable__label sk-toggleable__label-arrow\">LinearDiscriminantAnalysis</label><div class=\"sk-toggleable__content\"><pre>LinearDiscriminantAnalysis()</pre></div></div></div></div></div>"
            ]
          },
          "metadata": {},
          "execution_count": 35
        }
      ]
    },
    {
      "cell_type": "code",
      "source": [
        "DisAnsModel.score(x_test, y_test)"
      ],
      "metadata": {
        "id": "H1jSIN4MwiJM",
        "outputId": "91a95a8a-2495-4c09-803f-1d81a065f01b",
        "colab": {
          "base_uri": "https://localhost:8080/"
        }
      },
      "execution_count": 36,
      "outputs": [
        {
          "output_type": "execute_result",
          "data": {
            "text/plain": [
              "0.735632183908046"
            ]
          },
          "metadata": {},
          "execution_count": 36
        }
      ]
    },
    {
      "cell_type": "code",
      "source": [
        "DisAnsModel.score(x_train, y_train)"
      ],
      "metadata": {
        "id": "9Y55eSBSwiIE",
        "outputId": "61a8e37b-91ee-4cb8-9068-963e036d5f81",
        "colab": {
          "base_uri": "https://localhost:8080/"
        }
      },
      "execution_count": 37,
      "outputs": [
        {
          "output_type": "execute_result",
          "data": {
            "text/plain": [
              "0.6873857404021938"
            ]
          },
          "metadata": {},
          "execution_count": 37
        }
      ]
    },
    {
      "cell_type": "code",
      "source": [],
      "metadata": {
        "id": "mLDmtjk8wiED"
      },
      "execution_count": null,
      "outputs": []
    },
    {
      "cell_type": "code",
      "source": [],
      "metadata": {
        "id": "E_959bXkwiC3"
      },
      "execution_count": null,
      "outputs": []
    },
    {
      "cell_type": "code",
      "source": [],
      "metadata": {
        "id": "cO0AXcQUwh-7"
      },
      "execution_count": null,
      "outputs": []
    },
    {
      "cell_type": "code",
      "source": [],
      "metadata": {
        "id": "xu00wHOgwh9r"
      },
      "execution_count": null,
      "outputs": []
    },
    {
      "cell_type": "code",
      "source": [],
      "metadata": {
        "id": "-maUY8qOwh5_"
      },
      "execution_count": null,
      "outputs": []
    },
    {
      "cell_type": "code",
      "source": [],
      "metadata": {
        "id": "vucbAyaEwh4u"
      },
      "execution_count": null,
      "outputs": []
    },
    {
      "cell_type": "code",
      "source": [],
      "metadata": {
        "id": "1PMmD0Kowh1Q"
      },
      "execution_count": null,
      "outputs": []
    },
    {
      "cell_type": "code",
      "source": [],
      "metadata": {
        "id": "DIYS7ViEwhz_"
      },
      "execution_count": null,
      "outputs": []
    },
    {
      "cell_type": "code",
      "source": [],
      "metadata": {
        "id": "O4UIo0sQwhvK"
      },
      "execution_count": null,
      "outputs": []
    },
    {
      "cell_type": "code",
      "source": [],
      "metadata": {
        "id": "hlup8zYWwhrZ"
      },
      "execution_count": null,
      "outputs": []
    },
    {
      "cell_type": "code",
      "source": [],
      "metadata": {
        "id": "c6QnUc0VwhqE"
      },
      "execution_count": null,
      "outputs": []
    },
    {
      "cell_type": "code",
      "source": [],
      "metadata": {
        "id": "v_J9UIy8whmT"
      },
      "execution_count": null,
      "outputs": []
    },
    {
      "cell_type": "code",
      "source": [],
      "metadata": {
        "id": "ofAmLDZOwhlE"
      },
      "execution_count": null,
      "outputs": []
    },
    {
      "cell_type": "code",
      "source": [],
      "metadata": {
        "id": "8Q3aY7bPwhhY"
      },
      "execution_count": null,
      "outputs": []
    },
    {
      "cell_type": "code",
      "source": [],
      "metadata": {
        "id": "CEzuetxMwhgS"
      },
      "execution_count": null,
      "outputs": []
    },
    {
      "cell_type": "code",
      "source": [],
      "metadata": {
        "id": "e_CJ4PHiwhcl"
      },
      "execution_count": null,
      "outputs": []
    },
    {
      "cell_type": "code",
      "source": [],
      "metadata": {
        "id": "yAGSxADUwhbV"
      },
      "execution_count": null,
      "outputs": []
    },
    {
      "cell_type": "code",
      "source": [],
      "metadata": {
        "id": "FjVMyrAJwhYi"
      },
      "execution_count": null,
      "outputs": []
    },
    {
      "cell_type": "code",
      "source": [],
      "metadata": {
        "id": "luT1vrYywhWY"
      },
      "execution_count": null,
      "outputs": []
    },
    {
      "cell_type": "code",
      "source": [],
      "metadata": {
        "id": "MCuDl9ruwhTE"
      },
      "execution_count": null,
      "outputs": []
    },
    {
      "cell_type": "code",
      "source": [],
      "metadata": {
        "id": "RnkhxYm2whRo"
      },
      "execution_count": null,
      "outputs": []
    },
    {
      "cell_type": "code",
      "source": [],
      "metadata": {
        "id": "2KLYOLp-whOF"
      },
      "execution_count": null,
      "outputs": []
    },
    {
      "cell_type": "code",
      "source": [],
      "metadata": {
        "id": "66jki-tQwhM0"
      },
      "execution_count": null,
      "outputs": []
    }
  ],
  "metadata": {
    "colab": {
      "provenance": []
    },
    "kernelspec": {
      "display_name": "Python 3",
      "name": "python3"
    },
    "language_info": {
      "name": "python"
    }
  },
  "nbformat": 4,
  "nbformat_minor": 0
}