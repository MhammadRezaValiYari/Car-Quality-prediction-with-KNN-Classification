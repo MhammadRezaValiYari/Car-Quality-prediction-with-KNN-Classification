{
  "cells": [
    {
      "cell_type": "code",
      "execution_count": 23,
      "metadata": {
        "id": "vkfKoXkyT2rB"
      },
      "outputs": [],
      "source": [
        "import sklearn\n",
        "from sklearn.utils import shuffle\n",
        "from sklearn.neighbors import KNeighborsClassifier\n",
        "from sklearn import preprocessing\n",
        "import pandas as pd\n",
        "import numpy as np\n",
        "import sklearn.metrics as met\n",
        "import matplotlib.pyplot as plt\n",
        "import sklearn.model_selection as ms\n",
        "import pickle"
      ]
    },
    {
      "cell_type": "code",
      "source": [
        "from google.colab import drive\n",
        "drive.mount('/content/drive')\n",
        "drive.mount('/content/drive', force_remount=True)\n",
        "!ls '/content/drive/MyDrive/car.data'"
      ],
      "metadata": {
        "colab": {
          "base_uri": "https://localhost:8080/"
        },
        "id": "8Yb4fhMiM1wZ",
        "outputId": "bead3187-c2d8-427d-b922-4793371615d0"
      },
      "execution_count": 24,
      "outputs": [
        {
          "output_type": "stream",
          "name": "stdout",
          "text": [
            "Drive already mounted at /content/drive; to attempt to forcibly remount, call drive.mount(\"/content/drive\", force_remount=True).\n",
            "Mounted at /content/drive\n",
            "/content/drive/MyDrive/car.data\n"
          ]
        }
      ]
    },
    {
      "cell_type": "code",
      "source": [
        "data = pd.read_csv('/content/drive/MyDrive/car.data')\n",
        "df = pd.DataFrame(data)\n",
        "df.head()"
      ],
      "metadata": {
        "colab": {
          "base_uri": "https://localhost:8080/",
          "height": 206
        },
        "id": "48ajKQC0M1su",
        "outputId": "960784a5-c96a-43ed-e617-348415a7cf11"
      },
      "execution_count": 25,
      "outputs": [
        {
          "output_type": "execute_result",
          "data": {
            "text/plain": [
              "  buying  maint doors persons lug_boot safty  class\n",
              "0  vhigh  vhigh     2       2    small   low  unacc\n",
              "1  vhigh  vhigh     2       2    small   med  unacc\n",
              "2  vhigh  vhigh     2       2    small  high  unacc\n",
              "3  vhigh  vhigh     2       2      med   low  unacc\n",
              "4  vhigh  vhigh     2       2      med   med  unacc"
            ],
            "text/html": [
              "\n",
              "  <div id=\"df-e3783973-3702-4618-95e0-f8ad95b37607\" class=\"colab-df-container\">\n",
              "    <div>\n",
              "<style scoped>\n",
              "    .dataframe tbody tr th:only-of-type {\n",
              "        vertical-align: middle;\n",
              "    }\n",
              "\n",
              "    .dataframe tbody tr th {\n",
              "        vertical-align: top;\n",
              "    }\n",
              "\n",
              "    .dataframe thead th {\n",
              "        text-align: right;\n",
              "    }\n",
              "</style>\n",
              "<table border=\"1\" class=\"dataframe\">\n",
              "  <thead>\n",
              "    <tr style=\"text-align: right;\">\n",
              "      <th></th>\n",
              "      <th>buying</th>\n",
              "      <th>maint</th>\n",
              "      <th>doors</th>\n",
              "      <th>persons</th>\n",
              "      <th>lug_boot</th>\n",
              "      <th>safty</th>\n",
              "      <th>class</th>\n",
              "    </tr>\n",
              "  </thead>\n",
              "  <tbody>\n",
              "    <tr>\n",
              "      <th>0</th>\n",
              "      <td>vhigh</td>\n",
              "      <td>vhigh</td>\n",
              "      <td>2</td>\n",
              "      <td>2</td>\n",
              "      <td>small</td>\n",
              "      <td>low</td>\n",
              "      <td>unacc</td>\n",
              "    </tr>\n",
              "    <tr>\n",
              "      <th>1</th>\n",
              "      <td>vhigh</td>\n",
              "      <td>vhigh</td>\n",
              "      <td>2</td>\n",
              "      <td>2</td>\n",
              "      <td>small</td>\n",
              "      <td>med</td>\n",
              "      <td>unacc</td>\n",
              "    </tr>\n",
              "    <tr>\n",
              "      <th>2</th>\n",
              "      <td>vhigh</td>\n",
              "      <td>vhigh</td>\n",
              "      <td>2</td>\n",
              "      <td>2</td>\n",
              "      <td>small</td>\n",
              "      <td>high</td>\n",
              "      <td>unacc</td>\n",
              "    </tr>\n",
              "    <tr>\n",
              "      <th>3</th>\n",
              "      <td>vhigh</td>\n",
              "      <td>vhigh</td>\n",
              "      <td>2</td>\n",
              "      <td>2</td>\n",
              "      <td>med</td>\n",
              "      <td>low</td>\n",
              "      <td>unacc</td>\n",
              "    </tr>\n",
              "    <tr>\n",
              "      <th>4</th>\n",
              "      <td>vhigh</td>\n",
              "      <td>vhigh</td>\n",
              "      <td>2</td>\n",
              "      <td>2</td>\n",
              "      <td>med</td>\n",
              "      <td>med</td>\n",
              "      <td>unacc</td>\n",
              "    </tr>\n",
              "  </tbody>\n",
              "</table>\n",
              "</div>\n",
              "    <div class=\"colab-df-buttons\">\n",
              "\n",
              "  <div class=\"colab-df-container\">\n",
              "    <button class=\"colab-df-convert\" onclick=\"convertToInteractive('df-e3783973-3702-4618-95e0-f8ad95b37607')\"\n",
              "            title=\"Convert this dataframe to an interactive table.\"\n",
              "            style=\"display:none;\">\n",
              "\n",
              "  <svg xmlns=\"http://www.w3.org/2000/svg\" height=\"24px\" viewBox=\"0 -960 960 960\">\n",
              "    <path d=\"M120-120v-720h720v720H120Zm60-500h600v-160H180v160Zm220 220h160v-160H400v160Zm0 220h160v-160H400v160ZM180-400h160v-160H180v160Zm440 0h160v-160H620v160ZM180-180h160v-160H180v160Zm440 0h160v-160H620v160Z\"/>\n",
              "  </svg>\n",
              "    </button>\n",
              "\n",
              "  <style>\n",
              "    .colab-df-container {\n",
              "      display:flex;\n",
              "      gap: 12px;\n",
              "    }\n",
              "\n",
              "    .colab-df-convert {\n",
              "      background-color: #E8F0FE;\n",
              "      border: none;\n",
              "      border-radius: 50%;\n",
              "      cursor: pointer;\n",
              "      display: none;\n",
              "      fill: #1967D2;\n",
              "      height: 32px;\n",
              "      padding: 0 0 0 0;\n",
              "      width: 32px;\n",
              "    }\n",
              "\n",
              "    .colab-df-convert:hover {\n",
              "      background-color: #E2EBFA;\n",
              "      box-shadow: 0px 1px 2px rgba(60, 64, 67, 0.3), 0px 1px 3px 1px rgba(60, 64, 67, 0.15);\n",
              "      fill: #174EA6;\n",
              "    }\n",
              "\n",
              "    .colab-df-buttons div {\n",
              "      margin-bottom: 4px;\n",
              "    }\n",
              "\n",
              "    [theme=dark] .colab-df-convert {\n",
              "      background-color: #3B4455;\n",
              "      fill: #D2E3FC;\n",
              "    }\n",
              "\n",
              "    [theme=dark] .colab-df-convert:hover {\n",
              "      background-color: #434B5C;\n",
              "      box-shadow: 0px 1px 3px 1px rgba(0, 0, 0, 0.15);\n",
              "      filter: drop-shadow(0px 1px 2px rgba(0, 0, 0, 0.3));\n",
              "      fill: #FFFFFF;\n",
              "    }\n",
              "  </style>\n",
              "\n",
              "    <script>\n",
              "      const buttonEl =\n",
              "        document.querySelector('#df-e3783973-3702-4618-95e0-f8ad95b37607 button.colab-df-convert');\n",
              "      buttonEl.style.display =\n",
              "        google.colab.kernel.accessAllowed ? 'block' : 'none';\n",
              "\n",
              "      async function convertToInteractive(key) {\n",
              "        const element = document.querySelector('#df-e3783973-3702-4618-95e0-f8ad95b37607');\n",
              "        const dataTable =\n",
              "          await google.colab.kernel.invokeFunction('convertToInteractive',\n",
              "                                                    [key], {});\n",
              "        if (!dataTable) return;\n",
              "\n",
              "        const docLinkHtml = 'Like what you see? Visit the ' +\n",
              "          '<a target=\"_blank\" href=https://colab.research.google.com/notebooks/data_table.ipynb>data table notebook</a>'\n",
              "          + ' to learn more about interactive tables.';\n",
              "        element.innerHTML = '';\n",
              "        dataTable['output_type'] = 'display_data';\n",
              "        await google.colab.output.renderOutput(dataTable, element);\n",
              "        const docLink = document.createElement('div');\n",
              "        docLink.innerHTML = docLinkHtml;\n",
              "        element.appendChild(docLink);\n",
              "      }\n",
              "    </script>\n",
              "  </div>\n",
              "\n",
              "\n",
              "<div id=\"df-3a5de2da-10cb-4d79-bb1f-fe8031ed4dfc\">\n",
              "  <button class=\"colab-df-quickchart\" onclick=\"quickchart('df-3a5de2da-10cb-4d79-bb1f-fe8031ed4dfc')\"\n",
              "            title=\"Suggest charts\"\n",
              "            style=\"display:none;\">\n",
              "\n",
              "<svg xmlns=\"http://www.w3.org/2000/svg\" height=\"24px\"viewBox=\"0 0 24 24\"\n",
              "     width=\"24px\">\n",
              "    <g>\n",
              "        <path d=\"M19 3H5c-1.1 0-2 .9-2 2v14c0 1.1.9 2 2 2h14c1.1 0 2-.9 2-2V5c0-1.1-.9-2-2-2zM9 17H7v-7h2v7zm4 0h-2V7h2v10zm4 0h-2v-4h2v4z\"/>\n",
              "    </g>\n",
              "</svg>\n",
              "  </button>\n",
              "\n",
              "<style>\n",
              "  .colab-df-quickchart {\n",
              "      --bg-color: #E8F0FE;\n",
              "      --fill-color: #1967D2;\n",
              "      --hover-bg-color: #E2EBFA;\n",
              "      --hover-fill-color: #174EA6;\n",
              "      --disabled-fill-color: #AAA;\n",
              "      --disabled-bg-color: #DDD;\n",
              "  }\n",
              "\n",
              "  [theme=dark] .colab-df-quickchart {\n",
              "      --bg-color: #3B4455;\n",
              "      --fill-color: #D2E3FC;\n",
              "      --hover-bg-color: #434B5C;\n",
              "      --hover-fill-color: #FFFFFF;\n",
              "      --disabled-bg-color: #3B4455;\n",
              "      --disabled-fill-color: #666;\n",
              "  }\n",
              "\n",
              "  .colab-df-quickchart {\n",
              "    background-color: var(--bg-color);\n",
              "    border: none;\n",
              "    border-radius: 50%;\n",
              "    cursor: pointer;\n",
              "    display: none;\n",
              "    fill: var(--fill-color);\n",
              "    height: 32px;\n",
              "    padding: 0;\n",
              "    width: 32px;\n",
              "  }\n",
              "\n",
              "  .colab-df-quickchart:hover {\n",
              "    background-color: var(--hover-bg-color);\n",
              "    box-shadow: 0 1px 2px rgba(60, 64, 67, 0.3), 0 1px 3px 1px rgba(60, 64, 67, 0.15);\n",
              "    fill: var(--button-hover-fill-color);\n",
              "  }\n",
              "\n",
              "  .colab-df-quickchart-complete:disabled,\n",
              "  .colab-df-quickchart-complete:disabled:hover {\n",
              "    background-color: var(--disabled-bg-color);\n",
              "    fill: var(--disabled-fill-color);\n",
              "    box-shadow: none;\n",
              "  }\n",
              "\n",
              "  .colab-df-spinner {\n",
              "    border: 2px solid var(--fill-color);\n",
              "    border-color: transparent;\n",
              "    border-bottom-color: var(--fill-color);\n",
              "    animation:\n",
              "      spin 1s steps(1) infinite;\n",
              "  }\n",
              "\n",
              "  @keyframes spin {\n",
              "    0% {\n",
              "      border-color: transparent;\n",
              "      border-bottom-color: var(--fill-color);\n",
              "      border-left-color: var(--fill-color);\n",
              "    }\n",
              "    20% {\n",
              "      border-color: transparent;\n",
              "      border-left-color: var(--fill-color);\n",
              "      border-top-color: var(--fill-color);\n",
              "    }\n",
              "    30% {\n",
              "      border-color: transparent;\n",
              "      border-left-color: var(--fill-color);\n",
              "      border-top-color: var(--fill-color);\n",
              "      border-right-color: var(--fill-color);\n",
              "    }\n",
              "    40% {\n",
              "      border-color: transparent;\n",
              "      border-right-color: var(--fill-color);\n",
              "      border-top-color: var(--fill-color);\n",
              "    }\n",
              "    60% {\n",
              "      border-color: transparent;\n",
              "      border-right-color: var(--fill-color);\n",
              "    }\n",
              "    80% {\n",
              "      border-color: transparent;\n",
              "      border-right-color: var(--fill-color);\n",
              "      border-bottom-color: var(--fill-color);\n",
              "    }\n",
              "    90% {\n",
              "      border-color: transparent;\n",
              "      border-bottom-color: var(--fill-color);\n",
              "    }\n",
              "  }\n",
              "</style>\n",
              "\n",
              "  <script>\n",
              "    async function quickchart(key) {\n",
              "      const quickchartButtonEl =\n",
              "        document.querySelector('#' + key + ' button');\n",
              "      quickchartButtonEl.disabled = true;  // To prevent multiple clicks.\n",
              "      quickchartButtonEl.classList.add('colab-df-spinner');\n",
              "      try {\n",
              "        const charts = await google.colab.kernel.invokeFunction(\n",
              "            'suggestCharts', [key], {});\n",
              "      } catch (error) {\n",
              "        console.error('Error during call to suggestCharts:', error);\n",
              "      }\n",
              "      quickchartButtonEl.classList.remove('colab-df-spinner');\n",
              "      quickchartButtonEl.classList.add('colab-df-quickchart-complete');\n",
              "    }\n",
              "    (() => {\n",
              "      let quickchartButtonEl =\n",
              "        document.querySelector('#df-3a5de2da-10cb-4d79-bb1f-fe8031ed4dfc button');\n",
              "      quickchartButtonEl.style.display =\n",
              "        google.colab.kernel.accessAllowed ? 'block' : 'none';\n",
              "    })();\n",
              "  </script>\n",
              "</div>\n",
              "    </div>\n",
              "  </div>\n"
            ]
          },
          "metadata": {},
          "execution_count": 25
        }
      ]
    },
    {
      "cell_type": "code",
      "source": [
        "df.columns"
      ],
      "metadata": {
        "colab": {
          "base_uri": "https://localhost:8080/"
        },
        "id": "OwVGNj_bM1rL",
        "outputId": "45c8dcd0-5514-4283-f40a-d5207c004dce"
      },
      "execution_count": 26,
      "outputs": [
        {
          "output_type": "execute_result",
          "data": {
            "text/plain": [
              "Index(['buying', 'maint', 'doors', 'persons', 'lug_boot', 'safty', 'class'], dtype='object')"
            ]
          },
          "metadata": {},
          "execution_count": 26
        }
      ]
    },
    {
      "cell_type": "code",
      "source": [
        "le = preprocessing.LabelEncoder()"
      ],
      "metadata": {
        "id": "aRg2amX5M1f0"
      },
      "execution_count": 27,
      "outputs": []
    },
    {
      "cell_type": "code",
      "source": [
        "buying = le.fit_transform(list(df['buying']))\n",
        "maint = le.fit_transform(list(df['maint']))\n",
        "doors = le.fit_transform(list(df['doors']))\n",
        "persons = le.fit_transform(list(df['persons']))\n",
        "lugboot = le.fit_transform(list(df['lug_boot']))\n",
        "safty = le.fit_transform(list(df['safty']))"
      ],
      "metadata": {
        "id": "MO_9sapOM1c6"
      },
      "execution_count": 28,
      "outputs": []
    },
    {
      "cell_type": "code",
      "source": [
        "clss = le.fit_transform(list(df['class']))"
      ],
      "metadata": {
        "id": "JZHeKbu6M1ZS"
      },
      "execution_count": 29,
      "outputs": []
    },
    {
      "cell_type": "code",
      "source": [
        "x = list(zip(buying, maint, doors, persons, lugboot, safty)) # feature\n",
        "y = list(clss) #label"
      ],
      "metadata": {
        "id": "tfLuakMxM1X2"
      },
      "execution_count": 30,
      "outputs": []
    },
    {
      "cell_type": "code",
      "source": [
        "x_train, x_test, y_train, y_test = ms.train_test_split(x, y, test_size=0.1)"
      ],
      "metadata": {
        "id": "E5gswympwipe"
      },
      "execution_count": 31,
      "outputs": []
    },
    {
      "cell_type": "code",
      "source": [
        "model = KNeighborsClassifier(n_neighbors=7)"
      ],
      "metadata": {
        "id": "f8xqzK8zwiil"
      },
      "execution_count": 32,
      "outputs": []
    },
    {
      "cell_type": "code",
      "source": [
        "model.fit(x_train, y_train)"
      ],
      "metadata": {
        "colab": {
          "base_uri": "https://localhost:8080/",
          "height": 74
        },
        "id": "xv_dqUsbwihG",
        "outputId": "b4fb2045-a764-4ff2-ca88-0aa1b3dd0ab3"
      },
      "execution_count": 33,
      "outputs": [
        {
          "output_type": "execute_result",
          "data": {
            "text/plain": [
              "KNeighborsClassifier(n_neighbors=7)"
            ],
            "text/html": [
              "<style>#sk-container-id-2 {color: black;background-color: white;}#sk-container-id-2 pre{padding: 0;}#sk-container-id-2 div.sk-toggleable {background-color: white;}#sk-container-id-2 label.sk-toggleable__label {cursor: pointer;display: block;width: 100%;margin-bottom: 0;padding: 0.3em;box-sizing: border-box;text-align: center;}#sk-container-id-2 label.sk-toggleable__label-arrow:before {content: \"▸\";float: left;margin-right: 0.25em;color: #696969;}#sk-container-id-2 label.sk-toggleable__label-arrow:hover:before {color: black;}#sk-container-id-2 div.sk-estimator:hover label.sk-toggleable__label-arrow:before {color: black;}#sk-container-id-2 div.sk-toggleable__content {max-height: 0;max-width: 0;overflow: hidden;text-align: left;background-color: #f0f8ff;}#sk-container-id-2 div.sk-toggleable__content pre {margin: 0.2em;color: black;border-radius: 0.25em;background-color: #f0f8ff;}#sk-container-id-2 input.sk-toggleable__control:checked~div.sk-toggleable__content {max-height: 200px;max-width: 100%;overflow: auto;}#sk-container-id-2 input.sk-toggleable__control:checked~label.sk-toggleable__label-arrow:before {content: \"▾\";}#sk-container-id-2 div.sk-estimator input.sk-toggleable__control:checked~label.sk-toggleable__label {background-color: #d4ebff;}#sk-container-id-2 div.sk-label input.sk-toggleable__control:checked~label.sk-toggleable__label {background-color: #d4ebff;}#sk-container-id-2 input.sk-hidden--visually {border: 0;clip: rect(1px 1px 1px 1px);clip: rect(1px, 1px, 1px, 1px);height: 1px;margin: -1px;overflow: hidden;padding: 0;position: absolute;width: 1px;}#sk-container-id-2 div.sk-estimator {font-family: monospace;background-color: #f0f8ff;border: 1px dotted black;border-radius: 0.25em;box-sizing: border-box;margin-bottom: 0.5em;}#sk-container-id-2 div.sk-estimator:hover {background-color: #d4ebff;}#sk-container-id-2 div.sk-parallel-item::after {content: \"\";width: 100%;border-bottom: 1px solid gray;flex-grow: 1;}#sk-container-id-2 div.sk-label:hover label.sk-toggleable__label {background-color: #d4ebff;}#sk-container-id-2 div.sk-serial::before {content: \"\";position: absolute;border-left: 1px solid gray;box-sizing: border-box;top: 0;bottom: 0;left: 50%;z-index: 0;}#sk-container-id-2 div.sk-serial {display: flex;flex-direction: column;align-items: center;background-color: white;padding-right: 0.2em;padding-left: 0.2em;position: relative;}#sk-container-id-2 div.sk-item {position: relative;z-index: 1;}#sk-container-id-2 div.sk-parallel {display: flex;align-items: stretch;justify-content: center;background-color: white;position: relative;}#sk-container-id-2 div.sk-item::before, #sk-container-id-2 div.sk-parallel-item::before {content: \"\";position: absolute;border-left: 1px solid gray;box-sizing: border-box;top: 0;bottom: 0;left: 50%;z-index: -1;}#sk-container-id-2 div.sk-parallel-item {display: flex;flex-direction: column;z-index: 1;position: relative;background-color: white;}#sk-container-id-2 div.sk-parallel-item:first-child::after {align-self: flex-end;width: 50%;}#sk-container-id-2 div.sk-parallel-item:last-child::after {align-self: flex-start;width: 50%;}#sk-container-id-2 div.sk-parallel-item:only-child::after {width: 0;}#sk-container-id-2 div.sk-dashed-wrapped {border: 1px dashed gray;margin: 0 0.4em 0.5em 0.4em;box-sizing: border-box;padding-bottom: 0.4em;background-color: white;}#sk-container-id-2 div.sk-label label {font-family: monospace;font-weight: bold;display: inline-block;line-height: 1.2em;}#sk-container-id-2 div.sk-label-container {text-align: center;}#sk-container-id-2 div.sk-container {/* jupyter's `normalize.less` sets `[hidden] { display: none; }` but bootstrap.min.css set `[hidden] { display: none !important; }` so we also need the `!important` here to be able to override the default hidden behavior on the sphinx rendered scikit-learn.org. See: https://github.com/scikit-learn/scikit-learn/issues/21755 */display: inline-block !important;position: relative;}#sk-container-id-2 div.sk-text-repr-fallback {display: none;}</style><div id=\"sk-container-id-2\" class=\"sk-top-container\"><div class=\"sk-text-repr-fallback\"><pre>KNeighborsClassifier(n_neighbors=7)</pre><b>In a Jupyter environment, please rerun this cell to show the HTML representation or trust the notebook. <br />On GitHub, the HTML representation is unable to render, please try loading this page with nbviewer.org.</b></div><div class=\"sk-container\" hidden><div class=\"sk-item\"><div class=\"sk-estimator sk-toggleable\"><input class=\"sk-toggleable__control sk-hidden--visually\" id=\"sk-estimator-id-2\" type=\"checkbox\" checked><label for=\"sk-estimator-id-2\" class=\"sk-toggleable__label sk-toggleable__label-arrow\">KNeighborsClassifier</label><div class=\"sk-toggleable__content\"><pre>KNeighborsClassifier(n_neighbors=7)</pre></div></div></div></div></div>"
            ]
          },
          "metadata": {},
          "execution_count": 33
        }
      ]
    },
    {
      "cell_type": "code",
      "source": [
        "model.score(x_test, y_test)"
      ],
      "metadata": {
        "colab": {
          "base_uri": "https://localhost:8080/"
        },
        "id": "1TwML5yxwieH",
        "outputId": "56833bd4-bda6-4685-ea7d-e4499ebffd80"
      },
      "execution_count": 34,
      "outputs": [
        {
          "output_type": "execute_result",
          "data": {
            "text/plain": [
              "0.9421965317919075"
            ]
          },
          "metadata": {},
          "execution_count": 34
        }
      ]
    },
    {
      "cell_type": "code",
      "source": [
        "model.score(x_train, y_train)"
      ],
      "metadata": {
        "colab": {
          "base_uri": "https://localhost:8080/"
        },
        "id": "CZHfAsl4wicR",
        "outputId": "721cde91-bf0d-427d-dbb9-c6df6d170900"
      },
      "execution_count": 35,
      "outputs": [
        {
          "output_type": "execute_result",
          "data": {
            "text/plain": [
              "0.9665594855305466"
            ]
          },
          "metadata": {},
          "execution_count": 35
        }
      ]
    },
    {
      "cell_type": "code",
      "source": [
        "predicted = model.predict(x_test)"
      ],
      "metadata": {
        "id": "A_MYevehlT4K"
      },
      "execution_count": 36,
      "outputs": []
    },
    {
      "cell_type": "code",
      "source": [
        "clas = [\"unacc\", \"acc\", \"good\", \"vgood\"]"
      ],
      "metadata": {
        "id": "jWH3lXxLmGYA"
      },
      "execution_count": 37,
      "outputs": []
    },
    {
      "cell_type": "code",
      "source": [
        "for x in range (len(predicted)):\n",
        "  print(\"pred:\", clas[predicted[x]], \"real:\", clas[y_test[x]])\n",
        "  n = model.kneighbors([x_test[x]], 3)\n",
        "  print(\"-----------------------------------------------------------\")\n",
        "  print(n)"
      ],
      "metadata": {
        "colab": {
          "base_uri": "https://localhost:8080/"
        },
        "id": "NczGdJVxwiY5",
        "outputId": "d45f1f3f-cf2f-453c-8d95-ca77c00841a6"
      },
      "execution_count": 38,
      "outputs": [
        {
          "output_type": "stream",
          "name": "stdout",
          "text": [
            "pred: good real: good\n",
            "-----------------------------------------------------------\n",
            "(array([[1., 1., 1.]]), array([[ 53, 823, 186]]))\n",
            "pred: unacc real: unacc\n",
            "-----------------------------------------------------------\n",
            "(array([[1., 1., 1.]]), array([[ 413, 1296, 1027]]))\n",
            "pred: acc real: acc\n",
            "-----------------------------------------------------------\n",
            "(array([[1., 1., 1.]]), array([[  45, 1389,   25]]))\n",
            "pred: good real: good\n",
            "-----------------------------------------------------------\n",
            "(array([[1., 1., 1.]]), array([[1436, 1214,  330]]))\n",
            "pred: unacc real: vgood\n",
            "-----------------------------------------------------------\n",
            "(array([[1., 1., 1.]]), array([[666, 284, 322]]))\n",
            "pred: good real: good\n",
            "-----------------------------------------------------------\n",
            "(array([[1., 1., 1.]]), array([[103, 224, 634]]))\n",
            "pred: good real: good\n",
            "-----------------------------------------------------------\n",
            "(array([[1., 1., 1.]]), array([[1137,  806,  874]]))\n",
            "pred: good real: good\n",
            "-----------------------------------------------------------\n",
            "(array([[1., 1., 1.]]), array([[ 435, 1354,   52]]))\n",
            "pred: good real: good\n",
            "-----------------------------------------------------------\n",
            "(array([[1., 1., 1.]]), array([[142, 823, 683]]))\n",
            "pred: good real: good\n",
            "-----------------------------------------------------------\n",
            "(array([[1., 1., 1.]]), array([[ 797, 1231, 1108]]))\n",
            "pred: good real: good\n",
            "-----------------------------------------------------------\n",
            "(array([[1., 1., 1.]]), array([[ 310,  319, 1133]]))\n",
            "pred: good real: good\n",
            "-----------------------------------------------------------\n",
            "(array([[1., 1., 1.]]), array([[1260, 1372,  972]]))\n",
            "pred: good real: good\n",
            "-----------------------------------------------------------\n",
            "(array([[1., 1., 1.]]), array([[606, 582, 591]]))\n",
            "pred: good real: good\n",
            "-----------------------------------------------------------\n",
            "(array([[1., 1., 1.]]), array([[581, 310,   8]]))\n",
            "pred: good real: good\n",
            "-----------------------------------------------------------\n",
            "(array([[1., 1., 1.]]), array([[1379,  386,  677]]))\n",
            "pred: good real: unacc\n",
            "-----------------------------------------------------------\n",
            "(array([[1., 1., 1.]]), array([[ 66, 974,  59]]))\n",
            "pred: unacc real: unacc\n",
            "-----------------------------------------------------------\n",
            "(array([[1., 1., 1.]]), array([[1425,  998,  179]]))\n",
            "pred: good real: good\n",
            "-----------------------------------------------------------\n",
            "(array([[1., 1., 1.]]), array([[ 972, 1358, 1360]]))\n",
            "pred: good real: good\n",
            "-----------------------------------------------------------\n",
            "(array([[1., 1., 1.]]), array([[ 961,  804, 1186]]))\n",
            "pred: good real: good\n",
            "-----------------------------------------------------------\n",
            "(array([[1., 1., 1.]]), array([[1425, 1330,  179]]))\n",
            "pred: good real: good\n",
            "-----------------------------------------------------------\n",
            "(array([[1., 1., 1.]]), array([[492, 199,   9]]))\n",
            "pred: good real: good\n",
            "-----------------------------------------------------------\n",
            "(array([[1., 1., 1.]]), array([[ 340,    6, 1271]]))\n",
            "pred: good real: good\n",
            "-----------------------------------------------------------\n",
            "(array([[1., 1., 1.]]), array([[549, 391, 598]]))\n",
            "pred: good real: good\n",
            "-----------------------------------------------------------\n",
            "(array([[1., 1., 1.]]), array([[685, 103, 224]]))\n",
            "pred: good real: good\n",
            "-----------------------------------------------------------\n",
            "(array([[1., 1., 1.]]), array([[1192,  439,  713]]))\n",
            "pred: good real: good\n",
            "-----------------------------------------------------------\n",
            "(array([[1., 1., 1.]]), array([[533, 218,  17]]))\n",
            "pred: unacc real: unacc\n",
            "-----------------------------------------------------------\n",
            "(array([[1., 1., 1.]]), array([[ 971,  509, 1021]]))\n",
            "pred: good real: good\n",
            "-----------------------------------------------------------\n",
            "(array([[1., 1., 1.]]), array([[ 779, 1056,   20]]))\n",
            "pred: unacc real: unacc\n",
            "-----------------------------------------------------------\n",
            "(array([[1., 1., 1.]]), array([[1136,  122, 1417]]))\n",
            "pred: unacc real: unacc\n",
            "-----------------------------------------------------------\n",
            "(array([[1., 1., 1.]]), array([[1311, 1326, 1188]]))\n",
            "pred: good real: good\n",
            "-----------------------------------------------------------\n",
            "(array([[1., 1., 1.]]), array([[ 276,  402, 1364]]))\n",
            "pred: unacc real: unacc\n",
            "-----------------------------------------------------------\n",
            "(array([[1., 1., 1.]]), array([[ 148,  759, 1106]]))\n",
            "pred: acc real: acc\n",
            "-----------------------------------------------------------\n",
            "(array([[1., 1., 1.]]), array([[415, 233, 696]]))\n",
            "pred: unacc real: unacc\n",
            "-----------------------------------------------------------\n",
            "(array([[1., 1., 1.]]), array([[421, 625,  40]]))\n",
            "pred: good real: good\n",
            "-----------------------------------------------------------\n",
            "(array([[1., 1., 1.]]), array([[552, 526, 746]]))\n",
            "pred: unacc real: unacc\n",
            "-----------------------------------------------------------\n",
            "(array([[1., 1., 1.]]), array([[1209, 1040,  734]]))\n",
            "pred: good real: good\n",
            "-----------------------------------------------------------\n",
            "(array([[1., 1., 1.]]), array([[471, 268, 346]]))\n",
            "pred: good real: good\n",
            "-----------------------------------------------------------\n",
            "(array([[1., 1., 1.]]), array([[1300, 1339, 1155]]))\n",
            "pred: unacc real: unacc\n",
            "-----------------------------------------------------------\n",
            "(array([[1., 1., 1.]]), array([[1358, 1372,  868]]))\n",
            "pred: good real: good\n",
            "-----------------------------------------------------------\n",
            "(array([[1., 1., 1.]]), array([[281, 817, 555]]))\n",
            "pred: good real: good\n",
            "-----------------------------------------------------------\n",
            "(array([[1., 1., 1.]]), array([[ 506, 1141,  401]]))\n",
            "pred: good real: good\n",
            "-----------------------------------------------------------\n",
            "(array([[1., 1., 1.]]), array([[821,  71,  93]]))\n",
            "pred: unacc real: unacc\n",
            "-----------------------------------------------------------\n",
            "(array([[1., 1., 1.]]), array([[1183,  802,  984]]))\n",
            "pred: good real: good\n",
            "-----------------------------------------------------------\n",
            "(array([[1., 1., 1.]]), array([[657, 849, 255]]))\n",
            "pred: good real: good\n",
            "-----------------------------------------------------------\n",
            "(array([[1., 1., 1.]]), array([[1158, 1139,   11]]))\n",
            "pred: good real: good\n",
            "-----------------------------------------------------------\n",
            "(array([[1., 1., 1.]]), array([[435, 117, 311]]))\n",
            "pred: good real: good\n",
            "-----------------------------------------------------------\n",
            "(array([[1., 1., 1.]]), array([[1305,  802,  844]]))\n",
            "pred: unacc real: unacc\n",
            "-----------------------------------------------------------\n",
            "(array([[1., 1., 1.]]), array([[906, 505, 761]]))\n",
            "pred: good real: good\n",
            "-----------------------------------------------------------\n",
            "(array([[1., 1., 1.]]), array([[ 86, 454,  50]]))\n",
            "pred: good real: good\n",
            "-----------------------------------------------------------\n",
            "(array([[1., 1., 1.]]), array([[461, 628, 763]]))\n",
            "pred: good real: good\n",
            "-----------------------------------------------------------\n",
            "(array([[1., 1., 1.]]), array([[451, 970, 137]]))\n",
            "pred: good real: good\n",
            "-----------------------------------------------------------\n",
            "(array([[1., 1., 1.]]), array([[889, 200, 551]]))\n",
            "pred: good real: good\n",
            "-----------------------------------------------------------\n",
            "(array([[1., 1., 1.]]), array([[1150,  642, 1262]]))\n",
            "pred: good real: good\n",
            "-----------------------------------------------------------\n",
            "(array([[1., 1., 1.]]), array([[1200,  203, 1257]]))\n",
            "pred: good real: good\n",
            "-----------------------------------------------------------\n",
            "(array([[1., 1., 1.]]), array([[442, 133,  69]]))\n",
            "pred: good real: good\n",
            "-----------------------------------------------------------\n",
            "(array([[1., 1., 1.]]), array([[130, 264, 714]]))\n",
            "pred: unacc real: unacc\n",
            "-----------------------------------------------------------\n",
            "(array([[1., 1., 1.]]), array([[715, 898, 858]]))\n",
            "pred: good real: good\n",
            "-----------------------------------------------------------\n",
            "(array([[1., 1., 1.]]), array([[1522,  591, 1474]]))\n",
            "pred: good real: good\n",
            "-----------------------------------------------------------\n",
            "(array([[1., 1., 1.]]), array([[420, 843, 655]]))\n",
            "pred: good real: good\n",
            "-----------------------------------------------------------\n",
            "(array([[1., 1., 1.]]), array([[164, 284,  62]]))\n",
            "pred: good real: good\n",
            "-----------------------------------------------------------\n",
            "(array([[1., 1., 1.]]), array([[1525, 1493,  387]]))\n",
            "pred: good real: good\n",
            "-----------------------------------------------------------\n",
            "(array([[1., 1., 1.]]), array([[207, 253, 278]]))\n",
            "pred: unacc real: unacc\n",
            "-----------------------------------------------------------\n",
            "(array([[1., 1., 1.]]), array([[ 88, 343, 127]]))\n",
            "pred: unacc real: unacc\n",
            "-----------------------------------------------------------\n",
            "(array([[1., 1., 1.]]), array([[187, 134,  60]]))\n",
            "pred: good real: good\n",
            "-----------------------------------------------------------\n",
            "(array([[1., 1., 1.]]), array([[115, 923, 403]]))\n",
            "pred: good real: good\n",
            "-----------------------------------------------------------\n",
            "(array([[1., 1., 1.]]), array([[ 498, 1525,  196]]))\n",
            "pred: unacc real: unacc\n",
            "-----------------------------------------------------------\n",
            "(array([[1., 1., 1.]]), array([[666, 843, 322]]))\n",
            "pred: good real: good\n",
            "-----------------------------------------------------------\n",
            "(array([[1., 1., 1.]]), array([[1320,  833, 1122]]))\n",
            "pred: unacc real: unacc\n",
            "-----------------------------------------------------------\n",
            "(array([[1., 1., 1.]]), array([[978,  78, 492]]))\n",
            "pred: good real: good\n",
            "-----------------------------------------------------------\n",
            "(array([[1., 1., 1.]]), array([[ 232, 1195,  155]]))\n",
            "pred: unacc real: unacc\n",
            "-----------------------------------------------------------\n",
            "(array([[1., 1., 1.]]), array([[ 65, 296, 103]]))\n",
            "pred: good real: good\n",
            "-----------------------------------------------------------\n",
            "(array([[1., 1., 1.]]), array([[1010,  218,  825]]))\n",
            "pred: good real: good\n",
            "-----------------------------------------------------------\n",
            "(array([[1., 1., 1.]]), array([[1351, 1276,  725]]))\n",
            "pred: good real: good\n",
            "-----------------------------------------------------------\n",
            "(array([[1., 1., 1.]]), array([[1280,    1,    7]]))\n",
            "pred: good real: good\n",
            "-----------------------------------------------------------\n",
            "(array([[1., 1., 1.]]), array([[ 806, 1136,  489]]))\n",
            "pred: good real: good\n",
            "-----------------------------------------------------------\n",
            "(array([[1., 1., 1.]]), array([[1120,  593,  141]]))\n",
            "pred: good real: good\n",
            "-----------------------------------------------------------\n",
            "(array([[1., 1., 1.]]), array([[1465,  910, 1203]]))\n",
            "pred: good real: good\n",
            "-----------------------------------------------------------\n",
            "(array([[1., 1., 1.]]), array([[ 969,   33, 1014]]))\n",
            "pred: good real: good\n",
            "-----------------------------------------------------------\n",
            "(array([[1., 1., 1.]]), array([[327,   7,   9]]))\n",
            "pred: unacc real: unacc\n",
            "-----------------------------------------------------------\n",
            "(array([[1., 1., 1.]]), array([[  89, 1131, 1403]]))\n",
            "pred: good real: good\n",
            "-----------------------------------------------------------\n",
            "(array([[1., 1., 1.]]), array([[1387, 1122,  933]]))\n",
            "pred: good real: good\n",
            "-----------------------------------------------------------\n",
            "(array([[1., 1., 1.]]), array([[1052,  141,   15]]))\n",
            "pred: good real: good\n",
            "-----------------------------------------------------------\n",
            "(array([[1., 1., 1.]]), array([[815, 180,  94]]))\n",
            "pred: good real: good\n",
            "-----------------------------------------------------------\n",
            "(array([[1., 1., 1.]]), array([[1512,  454,  604]]))\n",
            "pred: unacc real: unacc\n",
            "-----------------------------------------------------------\n",
            "(array([[1., 1., 1.]]), array([[864,  96,  63]]))\n",
            "pred: good real: good\n",
            "-----------------------------------------------------------\n",
            "(array([[1., 1., 1.]]), array([[1237,  593,  915]]))\n",
            "pred: good real: good\n",
            "-----------------------------------------------------------\n",
            "(array([[1., 1., 1.]]), array([[398, 182, 169]]))\n",
            "pred: good real: good\n",
            "-----------------------------------------------------------\n",
            "(array([[1., 1., 1.]]), array([[ 434, 1389,   45]]))\n",
            "pred: unacc real: unacc\n",
            "-----------------------------------------------------------\n",
            "(array([[1., 1., 1.]]), array([[881, 622, 691]]))\n",
            "pred: good real: good\n",
            "-----------------------------------------------------------\n",
            "(array([[1., 1., 1.]]), array([[662,  19, 199]]))\n",
            "pred: good real: good\n",
            "-----------------------------------------------------------\n",
            "(array([[1., 1., 1.]]), array([[1339,  366, 1429]]))\n",
            "pred: good real: good\n",
            "-----------------------------------------------------------\n",
            "(array([[1., 1., 1.]]), array([[273, 853, 743]]))\n",
            "pred: good real: good\n",
            "-----------------------------------------------------------\n",
            "(array([[1., 1., 1.]]), array([[ 506, 1483,  401]]))\n",
            "pred: good real: good\n",
            "-----------------------------------------------------------\n",
            "(array([[1., 1., 1.]]), array([[1052,  464,  141]]))\n",
            "pred: unacc real: vgood\n",
            "-----------------------------------------------------------\n",
            "(array([[1., 1., 1.]]), array([[1411, 1386,  345]]))\n",
            "pred: good real: good\n",
            "-----------------------------------------------------------\n",
            "(array([[1., 1., 1.]]), array([[ 701, 1144, 1348]]))\n",
            "pred: good real: good\n",
            "-----------------------------------------------------------\n",
            "(array([[1., 1., 1.]]), array([[ 568,  671, 1085]]))\n",
            "pred: good real: good\n",
            "-----------------------------------------------------------\n",
            "(array([[1., 1., 1.]]), array([[ 882,  460, 1191]]))\n",
            "pred: unacc real: unacc\n",
            "-----------------------------------------------------------\n",
            "(array([[1., 1., 1.]]), array([[704,  27, 219]]))\n",
            "pred: good real: good\n",
            "-----------------------------------------------------------\n",
            "(array([[1., 1., 1.]]), array([[1157,  402,  840]]))\n",
            "pred: good real: good\n",
            "-----------------------------------------------------------\n",
            "(array([[1., 1., 1.]]), array([[1034,   79,  259]]))\n",
            "pred: good real: good\n",
            "-----------------------------------------------------------\n",
            "(array([[1., 1., 1.]]), array([[1021, 1098,  379]]))\n",
            "pred: good real: good\n",
            "-----------------------------------------------------------\n",
            "(array([[1., 1., 1.]]), array([[1209,  934, 1019]]))\n",
            "pred: good real: good\n",
            "-----------------------------------------------------------\n",
            "(array([[1., 1., 1.]]), array([[710, 976, 148]]))\n",
            "pred: good real: good\n",
            "-----------------------------------------------------------\n",
            "(array([[1., 1., 1.]]), array([[ 440, 1525, 1536]]))\n",
            "pred: unacc real: unacc\n",
            "-----------------------------------------------------------\n",
            "(array([[1., 1., 1.]]), array([[1349,  150,  151]]))\n",
            "pred: good real: good\n",
            "-----------------------------------------------------------\n",
            "(array([[1., 1., 1.]]), array([[852, 414, 205]]))\n",
            "pred: good real: good\n",
            "-----------------------------------------------------------\n",
            "(array([[1., 1., 1.]]), array([[752, 400, 471]]))\n",
            "pred: good real: good\n",
            "-----------------------------------------------------------\n",
            "(array([[1., 1., 1.]]), array([[ 779, 1083,  236]]))\n",
            "pred: good real: good\n",
            "-----------------------------------------------------------\n",
            "(array([[1., 1., 1.]]), array([[1330,  175,  179]]))\n",
            "pred: unacc real: unacc\n",
            "-----------------------------------------------------------\n",
            "(array([[1., 1., 1.]]), array([[1053,  691, 1009]]))\n",
            "pred: unacc real: acc\n",
            "-----------------------------------------------------------\n",
            "(array([[1., 1., 1.]]), array([[741, 163, 189]]))\n",
            "pred: good real: good\n",
            "-----------------------------------------------------------\n",
            "(array([[1., 1., 1.]]), array([[1212,  154,  628]]))\n",
            "pred: good real: good\n",
            "-----------------------------------------------------------\n",
            "(array([[1., 1., 1.]]), array([[1125, 1342,  795]]))\n",
            "pred: good real: unacc\n",
            "-----------------------------------------------------------\n",
            "(array([[1., 1., 1.]]), array([[198, 673, 155]]))\n",
            "pred: good real: good\n",
            "-----------------------------------------------------------\n",
            "(array([[1., 1., 1.]]), array([[752, 351, 268]]))\n",
            "pred: good real: good\n",
            "-----------------------------------------------------------\n",
            "(array([[1., 1., 1.]]), array([[1115,  194,  152]]))\n",
            "pred: good real: good\n",
            "-----------------------------------------------------------\n",
            "(array([[1., 1., 1.]]), array([[ 489, 1335,  407]]))\n",
            "pred: unacc real: unacc\n",
            "-----------------------------------------------------------\n",
            "(array([[1., 1., 1.]]), array([[200, 391, 118]]))\n",
            "pred: good real: good\n",
            "-----------------------------------------------------------\n",
            "(array([[1., 1., 1.]]), array([[733, 428, 512]]))\n",
            "pred: good real: good\n",
            "-----------------------------------------------------------\n",
            "(array([[1., 1., 1.]]), array([[484, 661,  26]]))\n",
            "pred: good real: good\n",
            "-----------------------------------------------------------\n",
            "(array([[1., 1., 1.]]), array([[ 902, 1442, 1228]]))\n",
            "pred: good real: good\n",
            "-----------------------------------------------------------\n",
            "(array([[1., 1., 1.]]), array([[1005,  419,  815]]))\n",
            "pred: good real: good\n",
            "-----------------------------------------------------------\n",
            "(array([[1., 1., 1.]]), array([[ 27, 402, 197]]))\n",
            "pred: unacc real: unacc\n",
            "-----------------------------------------------------------\n",
            "(array([[1., 1., 1.]]), array([[ 312, 1240, 1037]]))\n",
            "pred: good real: good\n",
            "-----------------------------------------------------------\n",
            "(array([[1., 1., 1.]]), array([[749,  79, 579]]))\n",
            "pred: good real: good\n",
            "-----------------------------------------------------------\n",
            "(array([[1., 1., 1.]]), array([[ 824, 1003,  965]]))\n",
            "pred: good real: unacc\n",
            "-----------------------------------------------------------\n",
            "(array([[1., 1., 1.]]), array([[443,   3, 202]]))\n",
            "pred: unacc real: unacc\n",
            "-----------------------------------------------------------\n",
            "(array([[1., 1., 1.]]), array([[1307, 1012,  242]]))\n",
            "pred: good real: good\n",
            "-----------------------------------------------------------\n",
            "(array([[1., 1., 1.]]), array([[427, 290, 377]]))\n",
            "pred: unacc real: unacc\n",
            "-----------------------------------------------------------\n",
            "(array([[1., 1., 1.]]), array([[ 113, 1265,  623]]))\n",
            "pred: good real: good\n",
            "-----------------------------------------------------------\n",
            "(array([[1., 1., 1.]]), array([[ 956, 1170,  915]]))\n",
            "pred: unacc real: unacc\n",
            "-----------------------------------------------------------\n",
            "(array([[1., 1., 1.]]), array([[431, 391, 372]]))\n",
            "pred: unacc real: unacc\n",
            "-----------------------------------------------------------\n",
            "(array([[1., 1., 1.]]), array([[1347, 1350,   51]]))\n",
            "pred: good real: good\n",
            "-----------------------------------------------------------\n",
            "(array([[1., 1., 1.]]), array([[1349,  524,  410]]))\n",
            "pred: good real: good\n",
            "-----------------------------------------------------------\n",
            "(array([[1., 1., 1.]]), array([[1302,  216,   64]]))\n",
            "pred: unacc real: unacc\n",
            "-----------------------------------------------------------\n",
            "(array([[1., 1., 1.]]), array([[344, 315,  27]]))\n",
            "pred: good real: good\n",
            "-----------------------------------------------------------\n",
            "(array([[1., 1., 1.]]), array([[1247, 1208, 1164]]))\n",
            "pred: unacc real: unacc\n",
            "-----------------------------------------------------------\n",
            "(array([[1., 1., 1.]]), array([[952, 866, 617]]))\n",
            "pred: good real: good\n",
            "-----------------------------------------------------------\n",
            "(array([[1., 1., 1.]]), array([[ 924, 1388,   36]]))\n",
            "pred: unacc real: unacc\n",
            "-----------------------------------------------------------\n",
            "(array([[1., 1., 1.]]), array([[1438,  354, 1384]]))\n",
            "pred: good real: good\n",
            "-----------------------------------------------------------\n",
            "(array([[1., 1., 1.]]), array([[ 565, 1378,  568]]))\n",
            "pred: good real: good\n",
            "-----------------------------------------------------------\n",
            "(array([[1., 1., 1.]]), array([[  85,  910, 1069]]))\n",
            "pred: acc real: acc\n",
            "-----------------------------------------------------------\n",
            "(array([[1., 1., 1.]]), array([[ 980, 1262,  116]]))\n",
            "pred: good real: good\n",
            "-----------------------------------------------------------\n",
            "(array([[1., 1., 1.]]), array([[288, 826, 348]]))\n",
            "pred: good real: good\n",
            "-----------------------------------------------------------\n",
            "(array([[1., 1., 1.]]), array([[ 70, 164, 843]]))\n",
            "pred: good real: unacc\n",
            "-----------------------------------------------------------\n",
            "(array([[1., 1., 1.]]), array([[507, 226, 643]]))\n",
            "pred: good real: good\n",
            "-----------------------------------------------------------\n",
            "(array([[1., 1., 1.]]), array([[1399,  860,   41]]))\n",
            "pred: unacc real: vgood\n",
            "-----------------------------------------------------------\n",
            "(array([[1., 1., 1.]]), array([[603, 196, 204]]))\n",
            "pred: good real: good\n",
            "-----------------------------------------------------------\n",
            "(array([[1., 1., 1.]]), array([[269, 929, 917]]))\n",
            "pred: good real: good\n",
            "-----------------------------------------------------------\n",
            "(array([[1., 1., 1.]]), array([[1271, 1226,  331]]))\n",
            "pred: good real: good\n",
            "-----------------------------------------------------------\n",
            "(array([[1., 1., 1.]]), array([[680, 431,  79]]))\n",
            "pred: good real: good\n",
            "-----------------------------------------------------------\n",
            "(array([[1., 1., 1.]]), array([[1504,  595,  624]]))\n",
            "pred: good real: good\n",
            "-----------------------------------------------------------\n",
            "(array([[1., 1., 1.]]), array([[ 673, 1069,   85]]))\n",
            "pred: unacc real: unacc\n",
            "-----------------------------------------------------------\n",
            "(array([[1., 1., 1.]]), array([[1418, 1176, 1257]]))\n",
            "pred: good real: good\n",
            "-----------------------------------------------------------\n",
            "(array([[1., 1., 1.]]), array([[1409, 1416, 1471]]))\n",
            "pred: good real: good\n",
            "-----------------------------------------------------------\n",
            "(array([[1., 1., 1.]]), array([[149, 714, 159]]))\n",
            "pred: good real: good\n",
            "-----------------------------------------------------------\n",
            "(array([[1., 1., 1.]]), array([[1293, 1328, 1203]]))\n",
            "pred: unacc real: unacc\n",
            "-----------------------------------------------------------\n",
            "(array([[1., 1., 1.]]), array([[ 554, 1319,   11]]))\n",
            "pred: good real: good\n",
            "-----------------------------------------------------------\n",
            "(array([[1., 1., 1.]]), array([[1086, 1119,   18]]))\n",
            "pred: good real: good\n",
            "-----------------------------------------------------------\n",
            "(array([[1., 1., 1.]]), array([[375, 414,  21]]))\n",
            "pred: good real: good\n",
            "-----------------------------------------------------------\n",
            "(array([[1., 1., 1.]]), array([[ 806, 1321,  143]]))\n",
            "pred: unacc real: acc\n",
            "-----------------------------------------------------------\n",
            "(array([[1., 1., 1.]]), array([[897, 131, 719]]))\n",
            "pred: unacc real: unacc\n",
            "-----------------------------------------------------------\n",
            "(array([[1., 1., 1.]]), array([[ 757,  211, 1094]]))\n",
            "pred: good real: good\n",
            "-----------------------------------------------------------\n",
            "(array([[1., 1., 1.]]), array([[877, 180, 369]]))\n",
            "pred: good real: good\n",
            "-----------------------------------------------------------\n",
            "(array([[1., 1., 1.]]), array([[1338,  194, 1115]]))\n",
            "pred: good real: good\n",
            "-----------------------------------------------------------\n",
            "(array([[1., 1., 1.]]), array([[647, 661, 521]]))\n",
            "pred: good real: good\n",
            "-----------------------------------------------------------\n",
            "(array([[1., 1., 1.]]), array([[902, 176, 220]]))\n",
            "pred: good real: good\n",
            "-----------------------------------------------------------\n",
            "(array([[1., 1., 1.]]), array([[533,  87, 891]]))\n",
            "pred: good real: good\n",
            "-----------------------------------------------------------\n",
            "(array([[1., 1., 1.]]), array([[804,  79, 749]]))\n",
            "pred: good real: good\n",
            "-----------------------------------------------------------\n",
            "(array([[1., 1., 1.]]), array([[662,  19, 361]]))\n",
            "pred: unacc real: vgood\n",
            "-----------------------------------------------------------\n",
            "(array([[1., 1., 1.]]), array([[ 492, 1543,  199]]))\n",
            "pred: good real: good\n",
            "-----------------------------------------------------------\n",
            "(array([[1., 1., 1.]]), array([[1451, 1182, 1344]]))\n"
          ]
        }
      ]
    },
    {
      "cell_type": "code",
      "source": [],
      "metadata": {
        "id": "JHROkS7NwiSI"
      },
      "execution_count": null,
      "outputs": []
    },
    {
      "cell_type": "code",
      "source": [],
      "metadata": {
        "id": "xcKQv1W4wiOf"
      },
      "execution_count": null,
      "outputs": []
    },
    {
      "cell_type": "code",
      "source": [],
      "metadata": {
        "id": "fRhl1FHhwiM7"
      },
      "execution_count": null,
      "outputs": []
    },
    {
      "cell_type": "code",
      "source": [],
      "metadata": {
        "id": "H1jSIN4MwiJM"
      },
      "execution_count": null,
      "outputs": []
    },
    {
      "cell_type": "code",
      "source": [],
      "metadata": {
        "id": "9Y55eSBSwiIE"
      },
      "execution_count": null,
      "outputs": []
    },
    {
      "cell_type": "code",
      "source": [],
      "metadata": {
        "id": "mLDmtjk8wiED"
      },
      "execution_count": null,
      "outputs": []
    },
    {
      "cell_type": "code",
      "source": [],
      "metadata": {
        "id": "E_959bXkwiC3"
      },
      "execution_count": null,
      "outputs": []
    },
    {
      "cell_type": "code",
      "source": [],
      "metadata": {
        "id": "cO0AXcQUwh-7"
      },
      "execution_count": null,
      "outputs": []
    },
    {
      "cell_type": "code",
      "source": [],
      "metadata": {
        "id": "xu00wHOgwh9r"
      },
      "execution_count": null,
      "outputs": []
    },
    {
      "cell_type": "code",
      "source": [],
      "metadata": {
        "id": "-maUY8qOwh5_"
      },
      "execution_count": null,
      "outputs": []
    },
    {
      "cell_type": "code",
      "source": [],
      "metadata": {
        "id": "vucbAyaEwh4u"
      },
      "execution_count": null,
      "outputs": []
    },
    {
      "cell_type": "code",
      "source": [],
      "metadata": {
        "id": "1PMmD0Kowh1Q"
      },
      "execution_count": null,
      "outputs": []
    },
    {
      "cell_type": "code",
      "source": [],
      "metadata": {
        "id": "DIYS7ViEwhz_"
      },
      "execution_count": null,
      "outputs": []
    },
    {
      "cell_type": "code",
      "source": [],
      "metadata": {
        "id": "O4UIo0sQwhvK"
      },
      "execution_count": null,
      "outputs": []
    },
    {
      "cell_type": "code",
      "source": [],
      "metadata": {
        "id": "hlup8zYWwhrZ"
      },
      "execution_count": null,
      "outputs": []
    },
    {
      "cell_type": "code",
      "source": [],
      "metadata": {
        "id": "c6QnUc0VwhqE"
      },
      "execution_count": null,
      "outputs": []
    },
    {
      "cell_type": "code",
      "source": [],
      "metadata": {
        "id": "v_J9UIy8whmT"
      },
      "execution_count": null,
      "outputs": []
    },
    {
      "cell_type": "code",
      "source": [],
      "metadata": {
        "id": "ofAmLDZOwhlE"
      },
      "execution_count": null,
      "outputs": []
    },
    {
      "cell_type": "code",
      "source": [],
      "metadata": {
        "id": "8Q3aY7bPwhhY"
      },
      "execution_count": null,
      "outputs": []
    },
    {
      "cell_type": "code",
      "source": [],
      "metadata": {
        "id": "CEzuetxMwhgS"
      },
      "execution_count": null,
      "outputs": []
    },
    {
      "cell_type": "code",
      "source": [],
      "metadata": {
        "id": "e_CJ4PHiwhcl"
      },
      "execution_count": null,
      "outputs": []
    },
    {
      "cell_type": "code",
      "source": [],
      "metadata": {
        "id": "yAGSxADUwhbV"
      },
      "execution_count": null,
      "outputs": []
    },
    {
      "cell_type": "code",
      "source": [],
      "metadata": {
        "id": "FjVMyrAJwhYi"
      },
      "execution_count": null,
      "outputs": []
    },
    {
      "cell_type": "code",
      "source": [],
      "metadata": {
        "id": "luT1vrYywhWY"
      },
      "execution_count": null,
      "outputs": []
    },
    {
      "cell_type": "code",
      "source": [],
      "metadata": {
        "id": "MCuDl9ruwhTE"
      },
      "execution_count": null,
      "outputs": []
    },
    {
      "cell_type": "code",
      "source": [],
      "metadata": {
        "id": "RnkhxYm2whRo"
      },
      "execution_count": null,
      "outputs": []
    },
    {
      "cell_type": "code",
      "source": [],
      "metadata": {
        "id": "2KLYOLp-whOF"
      },
      "execution_count": null,
      "outputs": []
    },
    {
      "cell_type": "code",
      "source": [],
      "metadata": {
        "id": "66jki-tQwhM0"
      },
      "execution_count": null,
      "outputs": []
    }
  ],
  "metadata": {
    "colab": {
      "provenance": []
    },
    "kernelspec": {
      "display_name": "Python 3",
      "name": "python3"
    },
    "language_info": {
      "name": "python"
    }
  },
  "nbformat": 4,
  "nbformat_minor": 0
}